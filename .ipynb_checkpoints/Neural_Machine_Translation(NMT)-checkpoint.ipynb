{
 "cells": [
  {
   "cell_type": "markdown",
   "metadata": {},
   "source": [
    "## NMT for English to Hindi"
   ]
  },
  {
   "cell_type": "code",
   "execution_count": 72,
   "metadata": {},
   "outputs": [],
   "source": [
    "import os\n",
    "import tensorflow as tf\n",
    "import random\n",
    "import numpy as np\n",
    "import math\n",
    "from tensorflow.python.layers.core import Dense"
   ]
  },
  {
   "cell_type": "markdown",
   "metadata": {},
   "source": [
    "### Loading data"
   ]
  },
  {
   "cell_type": "code",
   "execution_count": 73,
   "metadata": {},
   "outputs": [
    {
     "name": "stdout",
     "output_type": "stream",
     "text": [
      "['wow!', 'help!', 'jump.', 'jump.', 'jump.', 'hello!', 'hello!', 'cheers!', 'cheers!', 'got it?']\n",
      "['वाह!', 'बचाओ!', 'उछलो.', 'कूदो.', 'छलांग.', 'नमस्ते।', 'नमस्कार।', 'वाह-वाह!', 'चियर्स!', 'समझे कि नहीं?']\n",
      "\n",
      "length of english sentences: 2867\n",
      "length of hindi sentences: 2867\n"
     ]
    }
   ],
   "source": [
    "english = []\n",
    "hindi = []\n",
    "with open(os.path.join('hin-eng', 'hin.txt')) as f:\n",
    "    for line in f:\n",
    "        eng, hin = line.split('\\t')\n",
    "        # hindi is having a newline character '\\n' at the end so excluding it\n",
    "        hin = hin[:-1]\n",
    "        english.append(eng.lower())\n",
    "        hindi.append(hin)\n",
    "        \n",
    "    assert len(english) == len(hindi)\n",
    "    \n",
    "    print(english[:10])\n",
    "    print(hindi[:10])\n",
    "    \n",
    "    print('\\nlength of english sentences:', len(english))\n",
    "    print('length of hindi sentences:', len(hindi))"
   ]
  },
  {
   "cell_type": "markdown",
   "metadata": {},
   "source": [
    "### Getting the length of unique sentences"
   ]
  },
  {
   "cell_type": "code",
   "execution_count": 74,
   "metadata": {},
   "outputs": [
    {
     "name": "stdout",
     "output_type": "stream",
     "text": [
      "2660\n",
      "2788\n"
     ]
    }
   ],
   "source": [
    "unique_eng_sentences = set(english)\n",
    "unique_hin_sentences = set(hindi)\n",
    "\n",
    "print(len(unique_eng_sentences))\n",
    "print(len(unique_hin_sentences))"
   ]
  },
  {
   "cell_type": "markdown",
   "metadata": {},
   "source": [
    "### Creating the dictionary"
   ]
  },
  {
   "cell_type": "code",
   "execution_count": 75,
   "metadata": {},
   "outputs": [
    {
     "name": "stdout",
     "output_type": "stream",
     "text": [
      "unique english words : 3307\n",
      "unique hindi words: 3156\n",
      "\n",
      "english dict:\n",
      " [('street', 3), ('money?', 4), ('entered', 5), ('slowly?', 6), ('empty', 8), ('kilo?', 9), ('get', 10), ('burning.', 1110), ('scolded', 11), ('amateur', 12)]\n",
      "\n",
      "reverse english dict:\n",
      " [(0, '<sos>'), (1, '<eos>'), (2, '<PAD>'), (3, 'street'), (4, 'money?'), (5, 'entered'), (6, 'slowly?'), (7, 'need'), (8, 'empty'), (9, 'kilo?')]\n",
      "\n",
      "hindi dict:\n",
      " [('सुलाना', 8), ('मेज़', 6), ('सुख', 7), ('अजीब', 5), ('मांग', 9), ('इकट्ठा', 10), ('पूरा', 11), ('उसने', 15), ('विदेश', 16), ('तकलीफ', 17)]\n",
      "\n",
      "reverse hindi dict:\n",
      " [(0, '<sos>'), (1, '<eos>'), (2, '<PAD>'), (3, 'थी।'), (4, 'I'), (5, 'अजीब'), (6, 'मेज़'), (7, 'सुख'), (8, 'सुलाना'), (9, 'मांग')]\n",
      "\n",
      "eng vocab size: 3310\n",
      "hin vocab size: 3159\n"
     ]
    }
   ],
   "source": [
    "eng_words = []\n",
    "hin_words = []\n",
    "\n",
    "for sent in english:\n",
    "    sentence = sent.split(' ')\n",
    "    eng_words.extend(sentence)\n",
    "\n",
    "unq_eng_words = set(eng_words)\n",
    "print('unique english words :', len(unq_eng_words))\n",
    "\n",
    "for sent in hindi:\n",
    "    sentence = sent.split(' ')\n",
    "    hin_words.extend(sentence)\n",
    "\n",
    "unq_hin_words = set(hin_words)\n",
    "print('unique hindi words:', len(unq_hin_words))\n",
    "\n",
    "eng_dict = {'<sos>':0, '<eos>':1, '<PAD>':2}\n",
    "\n",
    "for wrd in unq_eng_words:\n",
    "    eng_dict[wrd] = len(eng_dict)\n",
    "rev_eng_dict = dict(zip(eng_dict.values(), eng_dict.keys()))\n",
    "\n",
    "print('\\nenglish dict:\\n', list(eng_dict.items())[0:10])\n",
    "print('\\nreverse english dict:\\n', list(rev_eng_dict.items())[0:10])\n",
    "\n",
    "hin_dict = {'<sos>':0, '<eos>':1, '<PAD>':2}\n",
    "\n",
    "for wrd in unq_hin_words:\n",
    "    hin_dict[wrd] = len(hin_dict)\n",
    "    \n",
    "rev_hin_dict = dict(zip(hin_dict.values(), hin_dict.keys()))\n",
    "\n",
    "print('\\nhindi dict:\\n', list(hin_dict.items())[0:10])\n",
    "print('\\nreverse hindi dict:\\n', list(rev_hin_dict.items())[0:10])\n",
    "\n",
    "eng_vocab_size = len(eng_dict)\n",
    "hin_vocab_size = len(hin_dict) \n",
    "\n",
    "print('\\neng vocab size:', eng_vocab_size)\n",
    "print('hin vocab size:', hin_vocab_size)\n"
   ]
  },
  {
   "cell_type": "markdown",
   "metadata": {},
   "source": [
    "### Creating train and test set"
   ]
  },
  {
   "cell_type": "code",
   "execution_count": 76,
   "metadata": {},
   "outputs": [
    {
     "name": "stdout",
     "output_type": "stream",
     "text": [
      "length of english train: 2817\n",
      "length of hindi train: 2817\n",
      "length of english test: 50\n",
      "length of hindi test: 50\n",
      "\n",
      "eng: what have you come here for?\n",
      "hin: आप लोग यहाँ क्या करने के लिए आए हैं?\n",
      "\n",
      "eng: what time does your watch say it is now?\n",
      "hin: तुम्हारी घड़ी अब क्या समय बता रही है?\n",
      "\n",
      "eng: both of my sisters are married.\n",
      "hin: मेरी दोनो बहनें शादीशुदा हैं।\n",
      "\n",
      "eng: these are our books.\n",
      "hin: ये हमारी किताबें हैं।\n",
      "\n",
      "eng: three men broke out of prison yesterday.\n",
      "hin: कल तीन आदमी जेल से भाग गए।\n",
      "\n",
      "eng: i heard someone knocking.\n",
      "hin: मुझे किसी के खटखटाने की आवाज़ सुनाई दी।\n",
      "\n",
      "eng: he came to see you yesterday.\n",
      "hin: वह कल तुमसे मिलने आया था।\n",
      "\n",
      "eng: according to him, she is not coming.\n",
      "hin: उसके हिसाब से वह नहीं आ रही।\n",
      "\n",
      "eng: this is the village where my father was born.\n",
      "hin: यह वह गाँव है जहाँ मेरे पिताजी पैदा हुए थे।\n",
      "\n",
      "eng: i was waiting for a taxi.\n",
      "hin: मैं टैक्सी का इंतेज़ार कर रहा था।\n"
     ]
    }
   ],
   "source": [
    "test_ind = [random.randint(0, len(english)) for i in range(50)]\n",
    "\n",
    "english_train = [english[i] for i in range(len(english)) if i not in test_ind]\n",
    "hindi_train = [hindi[i] for i in range(len(hindi)) if i not in test_ind]\n",
    "\n",
    "english_test = [english[i] for i in test_ind]\n",
    "hindi_test = [hindi[i] for i in test_ind]\n",
    "\n",
    "print('length of english train:', len(english_train))\n",
    "print('length of hindi train:', len(hindi_train))\n",
    "\n",
    "print('length of english test:', len(english_test))\n",
    "print('length of hindi test:', len(hindi_test))\n",
    "\n",
    "for i in range(10):\n",
    "    print('\\neng:', english_test[i])\n",
    "    print('hin:', hindi_test[i])"
   ]
  },
  {
   "cell_type": "markdown",
   "metadata": {},
   "source": [
    "### Max no. of words in a sentence"
   ]
  },
  {
   "cell_type": "code",
   "execution_count": 77,
   "metadata": {},
   "outputs": [
    {
     "name": "stdout",
     "output_type": "stream",
     "text": [
      "max length of english sentence: 22\n",
      "max length of hindi sentence: 25\n"
     ]
    }
   ],
   "source": [
    "en = []\n",
    "hi = []\n",
    "\n",
    "for sent in english:\n",
    "    sentence = sent.split(' ')\n",
    "    en.append(sentence)\n",
    "\n",
    "for sent in hindi:\n",
    "    sentence = sent.split(' ')\n",
    "    hi.append(sentence)\n",
    "    \n",
    "print('max length of english sentence:', len(max(en, key = len)))\n",
    "print('max length of hindi sentence:', len(max(hi, key = len)))\n"
   ]
  },
  {
   "cell_type": "markdown",
   "metadata": {},
   "source": [
    "### Converting from words to numbers"
   ]
  },
  {
   "cell_type": "code",
   "execution_count": 78,
   "metadata": {},
   "outputs": [],
   "source": [
    "# +2 for <sos> and <eos>\n",
    "eng_max_len = len(max(en, key = len)) + 2\n",
    "hin_max_len = len(max(hi, key = len)) + 2\n",
    "\n",
    "train_input = []\n",
    "train_output = []\n",
    "\n",
    "for eng_sent, hin_sent in zip(english_train, hindi_train):\n",
    "    \n",
    "    numeric_eng_sent = [eng_dict['<sos>']]\n",
    "    numeric_hin_sent = [hin_dict['<sos>']]\n",
    "    \n",
    "    \n",
    "    for wrds in eng_sent.split():\n",
    "        numeric_eng_sent.append(eng_dict[wrds])\n",
    "    \n",
    "    for wrds in hin_sent.split():\n",
    "        numeric_hin_sent.append(hin_dict[wrds])\n",
    "    \n",
    "    if len(numeric_eng_sent) < eng_max_len:\n",
    "        \n",
    "        [numeric_eng_sent.append(eng_dict['<PAD>']) \n",
    "                            for i in range(eng_max_len - len(numeric_eng_sent) - 1)]\n",
    "        \n",
    "        numeric_eng_sent.append(eng_dict['<eos>'])\n",
    "    \n",
    "    train_input.append(numeric_eng_sent)\n",
    "    \n",
    "    if len(numeric_hin_sent) < hin_max_len:\n",
    "        \n",
    "        [numeric_hin_sent.append(hin_dict['<PAD>']) \n",
    "                            for i in range(hin_max_len - len(numeric_hin_sent) - 1)]\n",
    "        numeric_hin_sent.append(hin_dict['<eos>'])\n",
    "    \n",
    "    train_output.append(numeric_hin_sent)\n",
    "\n",
    "\n",
    "test_input = []\n",
    "test_output = []\n",
    "\n",
    "for eng_sent, hin_sent in zip(english_test, hindi_test):\n",
    "    \n",
    "    numeric_eng_sent = [eng_dict['<sos>']]\n",
    "    numeric_hin_sent = [hin_dict['<sos>']]\n",
    "    \n",
    "    for wrds in eng_sent.split():\n",
    "        numeric_eng_sent.append(eng_dict[wrds])\n",
    "    \n",
    "    for wrds in hin_sent.split():\n",
    "        numeric_hin_sent.append(hin_dict[wrds])\n",
    "    \n",
    "    if len(numeric_eng_sent) < eng_max_len:\n",
    "        \n",
    "        [numeric_eng_sent.append(eng_dict['<PAD>']) \n",
    "                            for i in range(eng_max_len - len(numeric_eng_sent) - 1)]\n",
    "        \n",
    "        numeric_eng_sent.append(eng_dict['<eos>'])\n",
    "    \n",
    "    test_input.append(numeric_eng_sent)\n",
    "    \n",
    "    if len(numeric_hin_sent) < hin_max_len:\n",
    "        \n",
    "        [numeric_hin_sent.append(hin_dict['<PAD>']) \n",
    "                            for i in range(hin_max_len - len(numeric_hin_sent) - 1)]\n",
    "        numeric_hin_sent.append(hin_dict['<eos>'])\n",
    "    \n",
    "    test_output.append(numeric_hin_sent)\n",
    "\n"
   ]
  },
  {
   "cell_type": "markdown",
   "metadata": {},
   "source": [
    "### Checking if every thing is working fine"
   ]
  },
  {
   "cell_type": "code",
   "execution_count": 88,
   "metadata": {},
   "outputs": [
    {
     "name": "stdout",
     "output_type": "stream",
     "text": [
      "\n",
      "numeric and word sequence:\n",
      " [0, 1335, 168, 767, 29, 757, 2991, 2, 2, 2, 2, 2, 2, 2, 2, 2, 2, 2, 2, 2, 2, 2, 2, 1]\n",
      "['<sos>', 'what', 'have', 'you', 'come', 'here', 'for?', '<PAD>', '<PAD>', '<PAD>', '<PAD>', '<PAD>', '<PAD>', '<PAD>', '<PAD>', '<PAD>', '<PAD>', '<PAD>', '<PAD>', '<PAD>', '<PAD>', '<PAD>', '<PAD>', '<eos>']\n",
      "\n",
      "numeric and word sequence:\n",
      " [0, 1335, 1238, 1207, 1974, 2561, 1527, 1599, 357, 1174, 2, 2, 2, 2, 2, 2, 2, 2, 2, 2, 2, 2, 2, 1]\n",
      "['<sos>', 'what', 'time', 'does', 'your', 'watch', 'say', 'it', 'is', 'now?', '<PAD>', '<PAD>', '<PAD>', '<PAD>', '<PAD>', '<PAD>', '<PAD>', '<PAD>', '<PAD>', '<PAD>', '<PAD>', '<PAD>', '<PAD>', '<eos>']\n",
      "\n",
      "numeric and word sequence:\n",
      " [0, 2740, 2395, 2895, 1497, 110, 866, 2, 2, 2, 2, 2, 2, 2, 2, 2, 2, 2, 2, 2, 2, 2, 2, 1]\n",
      "['<sos>', 'both', 'of', 'my', 'sisters', 'are', 'married.', '<PAD>', '<PAD>', '<PAD>', '<PAD>', '<PAD>', '<PAD>', '<PAD>', '<PAD>', '<PAD>', '<PAD>', '<PAD>', '<PAD>', '<PAD>', '<PAD>', '<PAD>', '<PAD>', '<eos>']\n",
      "\n",
      "numeric and word sequence:\n",
      " [0, 1245, 110, 539, 2871, 2, 2, 2, 2, 2, 2, 2, 2, 2, 2, 2, 2, 2, 2, 2, 2, 2, 2, 1]\n",
      "['<sos>', 'these', 'are', 'our', 'books.', '<PAD>', '<PAD>', '<PAD>', '<PAD>', '<PAD>', '<PAD>', '<PAD>', '<PAD>', '<PAD>', '<PAD>', '<PAD>', '<PAD>', '<PAD>', '<PAD>', '<PAD>', '<PAD>', '<PAD>', '<PAD>', '<eos>']\n",
      "\n",
      "numeric and word sequence:\n",
      " [0, 2376, 1728, 96, 2279, 2395, 2272, 2648, 2, 2, 2, 2, 2, 2, 2, 2, 2, 2, 2, 2, 2, 2, 2, 1]\n",
      "['<sos>', 'three', 'men', 'broke', 'out', 'of', 'prison', 'yesterday.', '<PAD>', '<PAD>', '<PAD>', '<PAD>', '<PAD>', '<PAD>', '<PAD>', '<PAD>', '<PAD>', '<PAD>', '<PAD>', '<PAD>', '<PAD>', '<PAD>', '<PAD>', '<eos>']\n",
      "\n",
      "numeric and word sequence:\n",
      " [0, 341, 275, 2480, 1275, 2, 2, 2, 2, 2, 2, 2, 2, 2, 2, 2, 2, 2, 2, 2, 2, 2, 2, 1]\n",
      "['<sos>', 'i', 'heard', 'someone', 'knocking.', '<PAD>', '<PAD>', '<PAD>', '<PAD>', '<PAD>', '<PAD>', '<PAD>', '<PAD>', '<PAD>', '<PAD>', '<PAD>', '<PAD>', '<PAD>', '<PAD>', '<PAD>', '<PAD>', '<PAD>', '<PAD>', '<eos>']\n",
      "\n",
      "numeric and word sequence:\n",
      " [0, 1578, 1532, 2727, 881, 767, 2648, 2, 2, 2, 2, 2, 2, 2, 2, 2, 2, 2, 2, 2, 2, 2, 2, 1]\n",
      "['<sos>', 'he', 'came', 'to', 'see', 'you', 'yesterday.', '<PAD>', '<PAD>', '<PAD>', '<PAD>', '<PAD>', '<PAD>', '<PAD>', '<PAD>', '<PAD>', '<PAD>', '<PAD>', '<PAD>', '<PAD>', '<PAD>', '<PAD>', '<PAD>', '<eos>']\n",
      "\n",
      "numeric and word sequence:\n",
      " [0, 627, 2727, 314, 1331, 357, 444, 157, 2, 2, 2, 2, 2, 2, 2, 2, 2, 2, 2, 2, 2, 2, 2, 1]\n",
      "['<sos>', 'according', 'to', 'him,', 'she', 'is', 'not', 'coming.', '<PAD>', '<PAD>', '<PAD>', '<PAD>', '<PAD>', '<PAD>', '<PAD>', '<PAD>', '<PAD>', '<PAD>', '<PAD>', '<PAD>', '<PAD>', '<PAD>', '<PAD>', '<eos>']\n",
      "\n",
      "numeric and word sequence:\n",
      " [0, 1536, 357, 2617, 562, 2314, 2895, 1969, 2948, 309, 2, 2, 2, 2, 2, 2, 2, 2, 2, 2, 2, 2, 2, 1]\n",
      "['<sos>', 'this', 'is', 'the', 'village', 'where', 'my', 'father', 'was', 'born.', '<PAD>', '<PAD>', '<PAD>', '<PAD>', '<PAD>', '<PAD>', '<PAD>', '<PAD>', '<PAD>', '<PAD>', '<PAD>', '<PAD>', '<PAD>', '<eos>']\n",
      "\n",
      "numeric and word sequence:\n",
      " [0, 341, 2948, 500, 2489, 1697, 1310, 2, 2, 2, 2, 2, 2, 2, 2, 2, 2, 2, 2, 2, 2, 2, 2, 1]\n",
      "['<sos>', 'i', 'was', 'waiting', 'for', 'a', 'taxi.', '<PAD>', '<PAD>', '<PAD>', '<PAD>', '<PAD>', '<PAD>', '<PAD>', '<PAD>', '<PAD>', '<PAD>', '<PAD>', '<PAD>', '<PAD>', '<PAD>', '<PAD>', '<PAD>', '<eos>']\n",
      "\n",
      "numeric and word sequence:\n",
      " [0, 1335, 168, 767, 29, 757, 2991, 2, 2, 2, 2, 2, 2, 2, 2, 2, 2, 2, 2, 2, 2, 2, 2, 1]\n",
      "['<sos>', 'what', 'have', 'you', 'come', 'here', 'for?', '<PAD>', '<PAD>', '<PAD>', '<PAD>', '<PAD>', '<PAD>', '<PAD>', '<PAD>', '<PAD>', '<PAD>', '<PAD>', '<PAD>', '<PAD>', '<PAD>', '<PAD>', '<PAD>', '<eos>']\n",
      "\n",
      "numeric and word sequence:\n",
      " [0, 1335, 1238, 1207, 1974, 2561, 1527, 1599, 357, 1174, 2, 2, 2, 2, 2, 2, 2, 2, 2, 2, 2, 2, 2, 1]\n",
      "['<sos>', 'what', 'time', 'does', 'your', 'watch', 'say', 'it', 'is', 'now?', '<PAD>', '<PAD>', '<PAD>', '<PAD>', '<PAD>', '<PAD>', '<PAD>', '<PAD>', '<PAD>', '<PAD>', '<PAD>', '<PAD>', '<PAD>', '<eos>']\n",
      "\n",
      "numeric and word sequence:\n",
      " [0, 2740, 2395, 2895, 1497, 110, 866, 2, 2, 2, 2, 2, 2, 2, 2, 2, 2, 2, 2, 2, 2, 2, 2, 1]\n",
      "['<sos>', 'both', 'of', 'my', 'sisters', 'are', 'married.', '<PAD>', '<PAD>', '<PAD>', '<PAD>', '<PAD>', '<PAD>', '<PAD>', '<PAD>', '<PAD>', '<PAD>', '<PAD>', '<PAD>', '<PAD>', '<PAD>', '<PAD>', '<PAD>', '<eos>']\n",
      "\n",
      "numeric and word sequence:\n",
      " [0, 1245, 110, 539, 2871, 2, 2, 2, 2, 2, 2, 2, 2, 2, 2, 2, 2, 2, 2, 2, 2, 2, 2, 1]\n",
      "['<sos>', 'these', 'are', 'our', 'books.', '<PAD>', '<PAD>', '<PAD>', '<PAD>', '<PAD>', '<PAD>', '<PAD>', '<PAD>', '<PAD>', '<PAD>', '<PAD>', '<PAD>', '<PAD>', '<PAD>', '<PAD>', '<PAD>', '<PAD>', '<PAD>', '<eos>']\n",
      "\n",
      "numeric and word sequence:\n",
      " [0, 2376, 1728, 96, 2279, 2395, 2272, 2648, 2, 2, 2, 2, 2, 2, 2, 2, 2, 2, 2, 2, 2, 2, 2, 1]\n",
      "['<sos>', 'three', 'men', 'broke', 'out', 'of', 'prison', 'yesterday.', '<PAD>', '<PAD>', '<PAD>', '<PAD>', '<PAD>', '<PAD>', '<PAD>', '<PAD>', '<PAD>', '<PAD>', '<PAD>', '<PAD>', '<PAD>', '<PAD>', '<PAD>', '<eos>']\n",
      "\n",
      "numeric and word sequence:\n",
      " [0, 341, 275, 2480, 1275, 2, 2, 2, 2, 2, 2, 2, 2, 2, 2, 2, 2, 2, 2, 2, 2, 2, 2, 1]\n",
      "['<sos>', 'i', 'heard', 'someone', 'knocking.', '<PAD>', '<PAD>', '<PAD>', '<PAD>', '<PAD>', '<PAD>', '<PAD>', '<PAD>', '<PAD>', '<PAD>', '<PAD>', '<PAD>', '<PAD>', '<PAD>', '<PAD>', '<PAD>', '<PAD>', '<PAD>', '<eos>']\n",
      "\n",
      "numeric and word sequence:\n",
      " [0, 1578, 1532, 2727, 881, 767, 2648, 2, 2, 2, 2, 2, 2, 2, 2, 2, 2, 2, 2, 2, 2, 2, 2, 1]\n",
      "['<sos>', 'he', 'came', 'to', 'see', 'you', 'yesterday.', '<PAD>', '<PAD>', '<PAD>', '<PAD>', '<PAD>', '<PAD>', '<PAD>', '<PAD>', '<PAD>', '<PAD>', '<PAD>', '<PAD>', '<PAD>', '<PAD>', '<PAD>', '<PAD>', '<eos>']\n",
      "\n",
      "numeric and word sequence:\n",
      " [0, 627, 2727, 314, 1331, 357, 444, 157, 2, 2, 2, 2, 2, 2, 2, 2, 2, 2, 2, 2, 2, 2, 2, 1]\n",
      "['<sos>', 'according', 'to', 'him,', 'she', 'is', 'not', 'coming.', '<PAD>', '<PAD>', '<PAD>', '<PAD>', '<PAD>', '<PAD>', '<PAD>', '<PAD>', '<PAD>', '<PAD>', '<PAD>', '<PAD>', '<PAD>', '<PAD>', '<PAD>', '<eos>']\n",
      "\n",
      "numeric and word sequence:\n",
      " [0, 1536, 357, 2617, 562, 2314, 2895, 1969, 2948, 309, 2, 2, 2, 2, 2, 2, 2, 2, 2, 2, 2, 2, 2, 1]\n",
      "['<sos>', 'this', 'is', 'the', 'village', 'where', 'my', 'father', 'was', 'born.', '<PAD>', '<PAD>', '<PAD>', '<PAD>', '<PAD>', '<PAD>', '<PAD>', '<PAD>', '<PAD>', '<PAD>', '<PAD>', '<PAD>', '<PAD>', '<eos>']\n",
      "\n",
      "numeric and word sequence:\n",
      " [0, 341, 2948, 500, 2489, 1697, 1310, 2, 2, 2, 2, 2, 2, 2, 2, 2, 2, 2, 2, 2, 2, 2, 2, 1]\n",
      "['<sos>', 'i', 'was', 'waiting', 'for', 'a', 'taxi.', '<PAD>', '<PAD>', '<PAD>', '<PAD>', '<PAD>', '<PAD>', '<PAD>', '<PAD>', '<PAD>', '<PAD>', '<PAD>', '<PAD>', '<PAD>', '<PAD>', '<PAD>', '<PAD>', '<eos>']\n"
     ]
    }
   ],
   "source": [
    "wrd_sent = []\n",
    "for i in range(10):\n",
    "    num_sent = test_input[i]\n",
    "    print('\\nnumeric and word sequence:\\n', num_sent)\n",
    "    for j in range(eng_max_len):\n",
    "        wrd_sent.append(rev_eng_dict[num_sent[j]])\n",
    "        \n",
    "    print(wrd_sent)\n",
    "    \n",
    "    wrd_sent = []\n",
    "\n",
    "wrd_sent = []    \n",
    "for i in range(10):\n",
    "    num_sent = test_input[i]\n",
    "    print('\\nnumeric and word sequence:\\n', num_sent)\n",
    "    for j in range(eng_max_len):\n",
    "        wrd_sent.append(rev_eng_dict[num_sent[j]])\n",
    "        \n",
    "    print(wrd_sent)\n",
    "    \n",
    "    wrd_sent = []"
   ]
  },
  {
   "cell_type": "code",
   "execution_count": 89,
   "metadata": {},
   "outputs": [
    {
     "name": "stdout",
     "output_type": "stream",
     "text": [
      "\n",
      "numeric and word sequence:\n",
      " [0, 1899, 1224, 2876, 3089, 2099, 2140, 3091, 2599, 656, 2, 2, 2, 2, 2, 2, 2, 2, 2, 2, 2, 2, 2, 2, 2, 2, 1]\n",
      "['<sos>', 'आप', 'लोग', 'यहाँ', 'क्या', 'करने', 'के', 'लिए', 'आए', 'हैं?', '<PAD>', '<PAD>', '<PAD>', '<PAD>', '<PAD>', '<PAD>', '<PAD>', '<PAD>', '<PAD>', '<PAD>', '<PAD>', '<PAD>', '<PAD>', '<PAD>', '<PAD>', '<PAD>', '<eos>']\n",
      "\n",
      "numeric and word sequence:\n",
      " [0, 1553, 836, 917, 3089, 1091, 1466, 417, 2731, 2, 2, 2, 2, 2, 2, 2, 2, 2, 2, 2, 2, 2, 2, 2, 2, 2, 1]\n",
      "['<sos>', 'तुम्हारी', 'घड़ी', 'अब', 'क्या', 'समय', 'बता', 'रही', 'है?', '<PAD>', '<PAD>', '<PAD>', '<PAD>', '<PAD>', '<PAD>', '<PAD>', '<PAD>', '<PAD>', '<PAD>', '<PAD>', '<PAD>', '<PAD>', '<PAD>', '<PAD>', '<PAD>', '<PAD>', '<eos>']\n",
      "\n",
      "numeric and word sequence:\n",
      " [0, 263, 357, 2079, 1135, 1586, 2, 2, 2, 2, 2, 2, 2, 2, 2, 2, 2, 2, 2, 2, 2, 2, 2, 2, 2, 2, 1]\n",
      "['<sos>', 'मेरी', 'दोनो', 'बहनें', 'शादीशुदा', 'हैं।', '<PAD>', '<PAD>', '<PAD>', '<PAD>', '<PAD>', '<PAD>', '<PAD>', '<PAD>', '<PAD>', '<PAD>', '<PAD>', '<PAD>', '<PAD>', '<PAD>', '<PAD>', '<PAD>', '<PAD>', '<PAD>', '<PAD>', '<PAD>', '<eos>']\n",
      "\n",
      "numeric and word sequence:\n",
      " [0, 308, 1191, 2724, 1586, 2, 2, 2, 2, 2, 2, 2, 2, 2, 2, 2, 2, 2, 2, 2, 2, 2, 2, 2, 2, 2, 1]\n",
      "['<sos>', 'ये', 'हमारी', 'किताबें', 'हैं।', '<PAD>', '<PAD>', '<PAD>', '<PAD>', '<PAD>', '<PAD>', '<PAD>', '<PAD>', '<PAD>', '<PAD>', '<PAD>', '<PAD>', '<PAD>', '<PAD>', '<PAD>', '<PAD>', '<PAD>', '<PAD>', '<PAD>', '<PAD>', '<PAD>', '<eos>']\n",
      "\n",
      "numeric and word sequence:\n",
      " [0, 210, 672, 2885, 2350, 2581, 942, 31, 2, 2, 2, 2, 2, 2, 2, 2, 2, 2, 2, 2, 2, 2, 2, 2, 2, 2, 1]\n",
      "['<sos>', 'कल', 'तीन', 'आदमी', 'जेल', 'से', 'भाग', 'गए।', '<PAD>', '<PAD>', '<PAD>', '<PAD>', '<PAD>', '<PAD>', '<PAD>', '<PAD>', '<PAD>', '<PAD>', '<PAD>', '<PAD>', '<PAD>', '<PAD>', '<PAD>', '<PAD>', '<PAD>', '<PAD>', '<eos>']\n",
      "\n",
      "numeric and word sequence:\n",
      " [0, 1821, 2737, 2140, 2945, 1260, 2006, 95, 491, 2, 2, 2, 2, 2, 2, 2, 2, 2, 2, 2, 2, 2, 2, 2, 2, 2, 1]\n",
      "['<sos>', 'मुझे', 'किसी', 'के', 'खटखटाने', 'की', 'आवाज़', 'सुनाई', 'दी।', '<PAD>', '<PAD>', '<PAD>', '<PAD>', '<PAD>', '<PAD>', '<PAD>', '<PAD>', '<PAD>', '<PAD>', '<PAD>', '<PAD>', '<PAD>', '<PAD>', '<PAD>', '<PAD>', '<PAD>', '<eos>']\n",
      "\n",
      "numeric and word sequence:\n",
      " [0, 921, 210, 2999, 2309, 224, 1438, 2, 2, 2, 2, 2, 2, 2, 2, 2, 2, 2, 2, 2, 2, 2, 2, 2, 2, 2, 1]\n",
      "['<sos>', 'वह', 'कल', 'तुमसे', 'मिलने', 'आया', 'था।', '<PAD>', '<PAD>', '<PAD>', '<PAD>', '<PAD>', '<PAD>', '<PAD>', '<PAD>', '<PAD>', '<PAD>', '<PAD>', '<PAD>', '<PAD>', '<PAD>', '<PAD>', '<PAD>', '<PAD>', '<PAD>', '<PAD>', '<eos>']\n",
      "\n",
      "numeric and word sequence:\n",
      " [0, 2823, 882, 2581, 921, 397, 1124, 2657, 2, 2, 2, 2, 2, 2, 2, 2, 2, 2, 2, 2, 2, 2, 2, 2, 2, 2, 1]\n",
      "['<sos>', 'उसके', 'हिसाब', 'से', 'वह', 'नहीं', 'आ', 'रही।', '<PAD>', '<PAD>', '<PAD>', '<PAD>', '<PAD>', '<PAD>', '<PAD>', '<PAD>', '<PAD>', '<PAD>', '<PAD>', '<PAD>', '<PAD>', '<PAD>', '<PAD>', '<PAD>', '<PAD>', '<PAD>', '<eos>']\n",
      "\n",
      "numeric and word sequence:\n",
      " [0, 838, 921, 2064, 959, 2957, 2682, 842, 3084, 1502, 446, 2, 2, 2, 2, 2, 2, 2, 2, 2, 2, 2, 2, 2, 2, 2, 1]\n",
      "['<sos>', 'यह', 'वह', 'गाँव', 'है', 'जहाँ', 'मेरे', 'पिताजी', 'पैदा', 'हुए', 'थे।', '<PAD>', '<PAD>', '<PAD>', '<PAD>', '<PAD>', '<PAD>', '<PAD>', '<PAD>', '<PAD>', '<PAD>', '<PAD>', '<PAD>', '<PAD>', '<PAD>', '<PAD>', '<eos>']\n",
      "\n",
      "numeric and word sequence:\n",
      " [0, 1581, 2628, 622, 21, 623, 905, 1438, 2, 2, 2, 2, 2, 2, 2, 2, 2, 2, 2, 2, 2, 2, 2, 2, 2, 2, 1]\n",
      "['<sos>', 'मैं', 'टैक्सी', 'का', 'इंतेज़ार', 'कर', 'रहा', 'था।', '<PAD>', '<PAD>', '<PAD>', '<PAD>', '<PAD>', '<PAD>', '<PAD>', '<PAD>', '<PAD>', '<PAD>', '<PAD>', '<PAD>', '<PAD>', '<PAD>', '<PAD>', '<PAD>', '<PAD>', '<PAD>', '<eos>']\n",
      "\n",
      "numeric and word sequence:\n",
      " [0, 1899, 1224, 2876, 3089, 2099, 2140, 3091, 2599, 656, 2, 2, 2, 2, 2, 2, 2, 2, 2, 2, 2, 2, 2, 2, 2, 2, 1]\n",
      "['<sos>', 'आप', 'लोग', 'यहाँ', 'क्या', 'करने', 'के', 'लिए', 'आए', 'हैं?', '<PAD>', '<PAD>', '<PAD>', '<PAD>', '<PAD>', '<PAD>', '<PAD>', '<PAD>', '<PAD>', '<PAD>', '<PAD>', '<PAD>', '<PAD>', '<PAD>', '<PAD>', '<PAD>', '<eos>']\n",
      "\n",
      "numeric and word sequence:\n",
      " [0, 1553, 836, 917, 3089, 1091, 1466, 417, 2731, 2, 2, 2, 2, 2, 2, 2, 2, 2, 2, 2, 2, 2, 2, 2, 2, 2, 1]\n",
      "['<sos>', 'तुम्हारी', 'घड़ी', 'अब', 'क्या', 'समय', 'बता', 'रही', 'है?', '<PAD>', '<PAD>', '<PAD>', '<PAD>', '<PAD>', '<PAD>', '<PAD>', '<PAD>', '<PAD>', '<PAD>', '<PAD>', '<PAD>', '<PAD>', '<PAD>', '<PAD>', '<PAD>', '<PAD>', '<eos>']\n",
      "\n",
      "numeric and word sequence:\n",
      " [0, 263, 357, 2079, 1135, 1586, 2, 2, 2, 2, 2, 2, 2, 2, 2, 2, 2, 2, 2, 2, 2, 2, 2, 2, 2, 2, 1]\n",
      "['<sos>', 'मेरी', 'दोनो', 'बहनें', 'शादीशुदा', 'हैं।', '<PAD>', '<PAD>', '<PAD>', '<PAD>', '<PAD>', '<PAD>', '<PAD>', '<PAD>', '<PAD>', '<PAD>', '<PAD>', '<PAD>', '<PAD>', '<PAD>', '<PAD>', '<PAD>', '<PAD>', '<PAD>', '<PAD>', '<PAD>', '<eos>']\n",
      "\n",
      "numeric and word sequence:\n",
      " [0, 308, 1191, 2724, 1586, 2, 2, 2, 2, 2, 2, 2, 2, 2, 2, 2, 2, 2, 2, 2, 2, 2, 2, 2, 2, 2, 1]\n",
      "['<sos>', 'ये', 'हमारी', 'किताबें', 'हैं।', '<PAD>', '<PAD>', '<PAD>', '<PAD>', '<PAD>', '<PAD>', '<PAD>', '<PAD>', '<PAD>', '<PAD>', '<PAD>', '<PAD>', '<PAD>', '<PAD>', '<PAD>', '<PAD>', '<PAD>', '<PAD>', '<PAD>', '<PAD>', '<PAD>', '<eos>']\n",
      "\n",
      "numeric and word sequence:\n",
      " [0, 210, 672, 2885, 2350, 2581, 942, 31, 2, 2, 2, 2, 2, 2, 2, 2, 2, 2, 2, 2, 2, 2, 2, 2, 2, 2, 1]\n",
      "['<sos>', 'कल', 'तीन', 'आदमी', 'जेल', 'से', 'भाग', 'गए।', '<PAD>', '<PAD>', '<PAD>', '<PAD>', '<PAD>', '<PAD>', '<PAD>', '<PAD>', '<PAD>', '<PAD>', '<PAD>', '<PAD>', '<PAD>', '<PAD>', '<PAD>', '<PAD>', '<PAD>', '<PAD>', '<eos>']\n",
      "\n",
      "numeric and word sequence:\n",
      " [0, 1821, 2737, 2140, 2945, 1260, 2006, 95, 491, 2, 2, 2, 2, 2, 2, 2, 2, 2, 2, 2, 2, 2, 2, 2, 2, 2, 1]\n",
      "['<sos>', 'मुझे', 'किसी', 'के', 'खटखटाने', 'की', 'आवाज़', 'सुनाई', 'दी।', '<PAD>', '<PAD>', '<PAD>', '<PAD>', '<PAD>', '<PAD>', '<PAD>', '<PAD>', '<PAD>', '<PAD>', '<PAD>', '<PAD>', '<PAD>', '<PAD>', '<PAD>', '<PAD>', '<PAD>', '<eos>']\n",
      "\n",
      "numeric and word sequence:\n",
      " [0, 921, 210, 2999, 2309, 224, 1438, 2, 2, 2, 2, 2, 2, 2, 2, 2, 2, 2, 2, 2, 2, 2, 2, 2, 2, 2, 1]\n",
      "['<sos>', 'वह', 'कल', 'तुमसे', 'मिलने', 'आया', 'था।', '<PAD>', '<PAD>', '<PAD>', '<PAD>', '<PAD>', '<PAD>', '<PAD>', '<PAD>', '<PAD>', '<PAD>', '<PAD>', '<PAD>', '<PAD>', '<PAD>', '<PAD>', '<PAD>', '<PAD>', '<PAD>', '<PAD>', '<eos>']\n",
      "\n",
      "numeric and word sequence:\n",
      " [0, 2823, 882, 2581, 921, 397, 1124, 2657, 2, 2, 2, 2, 2, 2, 2, 2, 2, 2, 2, 2, 2, 2, 2, 2, 2, 2, 1]\n",
      "['<sos>', 'उसके', 'हिसाब', 'से', 'वह', 'नहीं', 'आ', 'रही।', '<PAD>', '<PAD>', '<PAD>', '<PAD>', '<PAD>', '<PAD>', '<PAD>', '<PAD>', '<PAD>', '<PAD>', '<PAD>', '<PAD>', '<PAD>', '<PAD>', '<PAD>', '<PAD>', '<PAD>', '<PAD>', '<eos>']\n",
      "\n",
      "numeric and word sequence:\n",
      " [0, 838, 921, 2064, 959, 2957, 2682, 842, 3084, 1502, 446, 2, 2, 2, 2, 2, 2, 2, 2, 2, 2, 2, 2, 2, 2, 2, 1]\n",
      "['<sos>', 'यह', 'वह', 'गाँव', 'है', 'जहाँ', 'मेरे', 'पिताजी', 'पैदा', 'हुए', 'थे।', '<PAD>', '<PAD>', '<PAD>', '<PAD>', '<PAD>', '<PAD>', '<PAD>', '<PAD>', '<PAD>', '<PAD>', '<PAD>', '<PAD>', '<PAD>', '<PAD>', '<PAD>', '<eos>']\n",
      "\n",
      "numeric and word sequence:\n",
      " [0, 1581, 2628, 622, 21, 623, 905, 1438, 2, 2, 2, 2, 2, 2, 2, 2, 2, 2, 2, 2, 2, 2, 2, 2, 2, 2, 1]\n",
      "['<sos>', 'मैं', 'टैक्सी', 'का', 'इंतेज़ार', 'कर', 'रहा', 'था।', '<PAD>', '<PAD>', '<PAD>', '<PAD>', '<PAD>', '<PAD>', '<PAD>', '<PAD>', '<PAD>', '<PAD>', '<PAD>', '<PAD>', '<PAD>', '<PAD>', '<PAD>', '<PAD>', '<PAD>', '<PAD>', '<eos>']\n"
     ]
    }
   ],
   "source": [
    "wrd_sent = []\n",
    "for i in range(10):\n",
    "    num_sent = test_output[i]\n",
    "    print('\\nnumeric and word sequence:\\n', num_sent)\n",
    "    for j in range(hin_max_len):\n",
    "        wrd_sent.append(rev_hin_dict[num_sent[j]])\n",
    "        \n",
    "    print(wrd_sent)\n",
    "    \n",
    "    wrd_sent = []\n",
    "\n",
    "wrd_sent = []    \n",
    "for i in range(10):\n",
    "    num_sent = test_output[i]\n",
    "    print('\\nnumeric and word sequence:\\n', num_sent)\n",
    "    for j in range(hin_max_len):\n",
    "        wrd_sent.append(rev_hin_dict[num_sent[j]])\n",
    "        \n",
    "    print(wrd_sent)\n",
    "    \n",
    "    wrd_sent = []"
   ]
  },
  {
   "cell_type": "markdown",
   "metadata": {},
   "source": [
    "### Making train and test i/p and o/p numpy arrays"
   ]
  },
  {
   "cell_type": "code",
   "execution_count": 41,
   "metadata": {},
   "outputs": [],
   "source": [
    "train_input = np.array(train_input, dtype=np.int32)\n",
    "train_output = np.array(train_output, dtype=np.int32)\n",
    "\n",
    "test_input = np.array(test_input,dtype=np.int32)\n",
    "test_output = np.array(test_output,dtype=np.int32)"
   ]
  },
  {
   "cell_type": "markdown",
   "metadata": {},
   "source": [
    "### Word embeddings using skip-gram"
   ]
  },
  {
   "cell_type": "code",
   "execution_count": 42,
   "metadata": {},
   "outputs": [
    {
     "data": {
      "text/plain": [
       "[['got', 'it?'],\n",
       " ['it?', 'got'],\n",
       " [\"i'm\", 'ok.'],\n",
       " ['ok.', \"i'm\"],\n",
       " ['come', 'in.'],\n",
       " ['in.', 'come'],\n",
       " ['get', 'out!'],\n",
       " ['out!', 'get'],\n",
       " ['go', 'away!'],\n",
       " ['away!', 'go']]"
      ]
     },
     "execution_count": 42,
     "metadata": {},
     "output_type": "execute_result"
    }
   ],
   "source": [
    "batch_size = 64\n",
    "embedding_size = 128\n",
    "\n",
    "sentences = []\n",
    "window_size = 1\n",
    "data = []\n",
    "\n",
    "num_sampled = 20\n",
    "\n",
    "for sent in english:\n",
    "    sentence = sent.split(' ')\n",
    "    sentences.append(sentence)\n",
    "    \n",
    "\n",
    "\n",
    "for sent in sentences:\n",
    "    for ind, wrd in enumerate(sent):\n",
    "        for cont_wrd in sent[max(ind - window_size, 0) : min(ind + window_size, len(sent)) + 1]:\n",
    "            if wrd not in cont_wrd:\n",
    "                data.append([wrd, cont_wrd])\n",
    "                \n",
    "data[0:10]"
   ]
  },
  {
   "cell_type": "code",
   "execution_count": 43,
   "metadata": {},
   "outputs": [
    {
     "name": "stdout",
     "output_type": "stream",
     "text": [
      "data train: [1455, 434, 2457, 2679, 29, 1769, 10, 89, 394, 2682]\n",
      "data label: [434, 1455, 2679, 2457, 1769, 29, 89, 10, 2682, 394]\n"
     ]
    }
   ],
   "source": [
    "data_train = []\n",
    "data_label = []\n",
    "\n",
    "for inp in data:\n",
    "    \n",
    "    data_train.append(eng_dict[inp[0]])\n",
    "    data_label.append(eng_dict[inp[1]])\n",
    "\n",
    "print('data train: {}' .format(data_train[0:10]))\n",
    "print('data label: {}' .format(data_label[0:10]))"
   ]
  },
  {
   "cell_type": "markdown",
   "metadata": {},
   "source": [
    "### Define i/p and o/p"
   ]
  },
  {
   "cell_type": "code",
   "execution_count": 44,
   "metadata": {},
   "outputs": [],
   "source": [
    "tf.reset_default_graph()\n",
    "train_dataset = tf.placeholder(tf.int32, shape = [batch_size])\n",
    "train_labels = tf.placeholder(tf.int32, shape = [batch_size, 1])"
   ]
  },
  {
   "cell_type": "markdown",
   "metadata": {},
   "source": [
    "### Model Parameters and Other Variables"
   ]
  },
  {
   "cell_type": "code",
   "execution_count": 45,
   "metadata": {},
   "outputs": [],
   "source": [
    "embeddings = tf.Variable(tf.random_uniform([eng_vocab_size, embedding_size], -1.0, 1.0))\n",
    "\n",
    "softmax_weights = tf.Variable(tf.truncated_normal([eng_vocab_size, embedding_size],\n",
    "                                stddev=0.5 / math.sqrt(embedding_size))\n",
    "                                )\n",
    "softmax_biases = tf.Variable(tf.random_uniform([eng_vocab_size],0.0,0.01))\n"
   ]
  },
  {
   "cell_type": "markdown",
   "metadata": {},
   "source": [
    "### Computations"
   ]
  },
  {
   "cell_type": "code",
   "execution_count": 46,
   "metadata": {},
   "outputs": [],
   "source": [
    "embed = tf.nn.embedding_lookup(embeddings, train_dataset)\n",
    "\n",
    "loss = tf.reduce_mean(tf.nn.sampled_softmax_loss(\n",
    "                    weights=softmax_weights, biases=softmax_biases, inputs=embed,\n",
    "                    labels=train_labels, num_sampled=num_sampled, num_classes=eng_vocab_size)\n",
    "                    )"
   ]
  },
  {
   "cell_type": "markdown",
   "metadata": {},
   "source": [
    "### Optimizer"
   ]
  },
  {
   "cell_type": "code",
   "execution_count": 47,
   "metadata": {},
   "outputs": [],
   "source": [
    "optimizer = tf.train.AdagradOptimizer(1.0).minimize(loss)"
   ]
  },
  {
   "cell_type": "markdown",
   "metadata": {},
   "source": [
    "### Running the skip gram algorithm"
   ]
  },
  {
   "cell_type": "code",
   "execution_count": 16,
   "metadata": {},
   "outputs": [
    {
     "name": "stdout",
     "output_type": "stream",
     "text": [
      "Average loss at step 200: 19205.195217\n",
      "Average loss at step 400: 15323.026056\n",
      "Average loss at step 600: 14694.902463\n",
      "Average loss at step 800: 14464.209200\n",
      "Average loss at step 1000: 14124.243824\n",
      "Average loss at step 1200: 13918.376618\n",
      "Average loss at step 1400: 13726.682820\n",
      "Average loss at step 1600: 13738.026134\n",
      "Average loss at step 1800: 13619.683788\n",
      "Average loss at step 2000: 13598.833608\n",
      "Average loss at step 2200: 13503.690409\n",
      "Average loss at step 2400: 13394.978613\n",
      "Average loss at step 2600: 13423.626555\n",
      "Average loss at step 2800: 13325.297071\n",
      "Average loss at step 3000: 13338.561650\n",
      "Average loss at step 3200: 13290.745211\n",
      "Average loss at step 3400: 13216.879252\n",
      "Average loss at step 3600: 13187.814978\n",
      "Average loss at step 3800: 13183.623336\n",
      "Average loss at step 4000: 13103.349944\n",
      "Average loss at step 4200: 13151.529444\n",
      "Average loss at step 4400: 13082.631723\n",
      "Average loss at step 4600: 13068.537695\n",
      "Average loss at step 4800: 13083.604540\n",
      "Average loss at step 5000: 13072.776033\n",
      "Average loss at step 5200: 13024.302992\n",
      "Average loss at step 5400: 13009.351039\n",
      "Average loss at step 5600: 12940.751164\n",
      "Average loss at step 5800: 12966.436129\n",
      "Average loss at step 6000: 12907.720726\n",
      "Average loss at step 6200: 12879.914182\n",
      "Average loss at step 6400: 12945.789290\n",
      "Average loss at step 6600: 12954.443192\n",
      "Average loss at step 6800: 12823.908397\n",
      "Average loss at step 7000: 12911.712949\n",
      "Average loss at step 7200: 12798.504297\n",
      "Average loss at step 7400: 12892.726438\n",
      "Average loss at step 7600: 12870.638664\n",
      "Average loss at step 7800: 12859.924429\n",
      "Average loss at step 8000: 12781.157749\n",
      "Average loss at step 8200: 12714.512998\n",
      "Average loss at step 8400: 12829.512348\n",
      "Average loss at step 8600: 12797.659559\n",
      "Average loss at step 8800: 12787.053734\n",
      "Average loss at step 9000: 12775.326490\n",
      "Average loss at step 9200: 12764.178065\n",
      "Average loss at step 9400: 12787.160525\n",
      "Average loss at step 9600: 12776.796974\n",
      "Average loss at step 9800: 12751.084506\n",
      "Average loss at step 10000: 12697.210194\n"
     ]
    }
   ],
   "source": [
    "\n",
    "num_steps = 10000\n",
    "skip_losses = []\n",
    "\n",
    "with tf.Session() as session:\n",
    "    tf.global_variables_initializer().run()\n",
    "    average_loss = 0\n",
    "    \n",
    "    for step in range(num_steps):\n",
    "        for batch_idx in range(len(data_train) // batch_size):\n",
    "            \n",
    "            batch_data = data_train[batch_size*batch_idx : batch_size*batch_idx + batch_size]\n",
    "            batch_data = np.asarray(batch_data)\n",
    "            \n",
    "            batch_label = data_label[batch_size*batch_idx : batch_size*batch_idx + batch_size]\n",
    "            batch_label = np.asarray(batch_label)\n",
    "            batch_label = batch_label.reshape((batch_size, 1))\n",
    "            \n",
    "            \n",
    "            feed_dict = {train_dataset: batch_data, train_labels: batch_label}\n",
    "            _, l = session.run([optimizer, loss], feed_dict = feed_dict)\n",
    "            \n",
    "            average_loss += l\n",
    "            \n",
    "            if (step + 1) % 200 == 0:\n",
    "                if step > 0:\n",
    "                    average_loss / 2000\n",
    "                skip_losses.append(average_loss)\n",
    "        if (step + 1) % 200 == 0:        \n",
    "            print('Average loss at step %d: %f' % (step+1, average_loss))\n",
    "            average_loss = 0\n",
    "            \n",
    "    embeddings_eng = embeddings.eval()\n",
    "\n",
    "np.save('eng-embeddings.npy', embeddings_eng)\n"
   ]
  },
  {
   "cell_type": "markdown",
   "metadata": {},
   "source": [
    "### Word embeddings Hindi"
   ]
  },
  {
   "cell_type": "code",
   "execution_count": 48,
   "metadata": {},
   "outputs": [
    {
     "data": {
      "text/plain": [
       "[['समझे', 'कि'],\n",
       " ['कि', 'समझे'],\n",
       " ['कि', 'नहीं?'],\n",
       " ['नहीं?', 'कि'],\n",
       " ['मैं', 'ठीक'],\n",
       " ['ठीक', 'मैं'],\n",
       " ['ठीक', 'हूँ।'],\n",
       " ['हूँ।', 'ठीक'],\n",
       " ['बहुत', 'बढ़िया!'],\n",
       " ['बढ़िया!', 'बहुत']]"
      ]
     },
     "execution_count": 48,
     "metadata": {},
     "output_type": "execute_result"
    }
   ],
   "source": [
    "batch_size = 64\n",
    "embedding_size = 128\n",
    "\n",
    "sentences = []\n",
    "window_size = 1\n",
    "data_hindi = []\n",
    "\n",
    "num_sampled = 20\n",
    "\n",
    "for sent in hindi:\n",
    "    sentence = sent.split(' ')\n",
    "    sentences.append(sentence)\n",
    "    \n",
    "\n",
    "\n",
    "for sent in sentences:\n",
    "    for ind, wrd in enumerate(sent):\n",
    "        for cont_wrd in sent[max(ind - window_size, 0) : min(ind + window_size, len(sent)) + 1]:\n",
    "            if wrd not in cont_wrd:\n",
    "                data_hindi.append([wrd, cont_wrd])\n",
    "                \n",
    "data_hindi[0:10]"
   ]
  },
  {
   "cell_type": "code",
   "execution_count": 49,
   "metadata": {},
   "outputs": [
    {
     "name": "stdout",
     "output_type": "stream",
     "text": [
      "data train: [2611, 3069, 3069, 441, 1581, 190, 190, 2834, 1012, 2983]\n",
      "data label: [3069, 2611, 441, 3069, 190, 1581, 2834, 190, 2983, 1012]\n"
     ]
    }
   ],
   "source": [
    "data_hindi_train = []\n",
    "data_hindi_label = []\n",
    "\n",
    "for inp in data_hindi:\n",
    "    \n",
    "    data_hindi_train.append(hin_dict[inp[0]])\n",
    "    data_hindi_label.append(hin_dict[inp[1]])\n",
    "\n",
    "print('data train: {}' .format(data_hindi_train[0:10]))\n",
    "print('data label: {}' .format(data_hindi_label[0:10]))"
   ]
  },
  {
   "cell_type": "markdown",
   "metadata": {},
   "source": [
    "### Define i/p and o/p"
   ]
  },
  {
   "cell_type": "code",
   "execution_count": 50,
   "metadata": {},
   "outputs": [],
   "source": [
    "tf.reset_default_graph()\n",
    "train_hindi_dataset = tf.placeholder(tf.int32, shape = [batch_size])\n",
    "train_hindi_labels = tf.placeholder(tf.int32, shape = [batch_size, 1])"
   ]
  },
  {
   "cell_type": "markdown",
   "metadata": {},
   "source": [
    "### Model parameters and other variables"
   ]
  },
  {
   "cell_type": "code",
   "execution_count": 51,
   "metadata": {},
   "outputs": [],
   "source": [
    "embeddings_hindi = tf.Variable(tf.random_uniform([hin_vocab_size, embedding_size], -1.0, 1.0))\n",
    "\n",
    "softmax_weights_hindi = tf.Variable(tf.truncated_normal([hin_vocab_size, embedding_size],\n",
    "                                stddev=0.5 / math.sqrt(embedding_size))\n",
    "                                )\n",
    "softmax_biases_hindi = tf.Variable(tf.random_uniform([hin_vocab_size],0.0,0.01))\n"
   ]
  },
  {
   "cell_type": "markdown",
   "metadata": {},
   "source": [
    "### Computations"
   ]
  },
  {
   "cell_type": "code",
   "execution_count": 52,
   "metadata": {},
   "outputs": [],
   "source": [
    "embed_hindi = tf.nn.embedding_lookup(embeddings_hindi, train_hindi_dataset)\n",
    "\n",
    "loss_hindi = tf.reduce_mean(tf.nn.sampled_softmax_loss(\n",
    "                    weights=softmax_weights_hindi, biases=softmax_biases_hindi, inputs=embed_hindi,\n",
    "                    labels=train_hindi_labels, num_sampled=num_sampled, num_classes=hin_vocab_size)\n",
    "                    )"
   ]
  },
  {
   "cell_type": "markdown",
   "metadata": {},
   "source": [
    "### Optimizer"
   ]
  },
  {
   "cell_type": "code",
   "execution_count": 53,
   "metadata": {},
   "outputs": [],
   "source": [
    "optimizer = tf.train.AdagradOptimizer(1.0).minimize(loss_hindi)"
   ]
  },
  {
   "cell_type": "markdown",
   "metadata": {},
   "source": [
    "### Running the skip gram loss algorithm for hindi"
   ]
  },
  {
   "cell_type": "code",
   "execution_count": 23,
   "metadata": {},
   "outputs": [
    {
     "name": "stdout",
     "output_type": "stream",
     "text": [
      "Average loss at step 200: 21199.986116\n",
      "Average loss at step 400: 16691.466200\n",
      "Average loss at step 600: 15741.420610\n",
      "Average loss at step 800: 15352.804156\n",
      "Average loss at step 1000: 15067.859991\n",
      "Average loss at step 1200: 14828.038417\n",
      "Average loss at step 1400: 14764.958345\n",
      "Average loss at step 1600: 14553.244605\n",
      "Average loss at step 1800: 14485.796032\n",
      "Average loss at step 2000: 14287.486551\n",
      "Average loss at step 2200: 14335.235766\n",
      "Average loss at step 2400: 14216.886235\n",
      "Average loss at step 2600: 14138.943719\n",
      "Average loss at step 2800: 14170.188631\n",
      "Average loss at step 3000: 14045.531303\n",
      "Average loss at step 3200: 14050.835196\n",
      "Average loss at step 3400: 13931.026932\n",
      "Average loss at step 3600: 13968.309216\n",
      "Average loss at step 3800: 13891.555790\n",
      "Average loss at step 4000: 13844.941279\n",
      "Average loss at step 4200: 13868.686502\n",
      "Average loss at step 4400: 13820.967113\n",
      "Average loss at step 4600: 13806.205545\n",
      "Average loss at step 4800: 13781.171436\n",
      "Average loss at step 5000: 13686.674879\n",
      "Average loss at step 5200: 13686.332084\n",
      "Average loss at step 5400: 13705.237461\n",
      "Average loss at step 5600: 13764.068633\n",
      "Average loss at step 5800: 13644.820260\n",
      "Average loss at step 6000: 13655.056098\n",
      "Average loss at step 6200: 13651.241808\n",
      "Average loss at step 6400: 13589.029423\n",
      "Average loss at step 6600: 13593.209969\n",
      "Average loss at step 6800: 13581.050404\n",
      "Average loss at step 7000: 13614.601195\n",
      "Average loss at step 7200: 13608.458848\n",
      "Average loss at step 7400: 13468.599340\n",
      "Average loss at step 7600: 13546.494223\n",
      "Average loss at step 7800: 13469.723097\n",
      "Average loss at step 8000: 13484.483365\n",
      "Average loss at step 8200: 13433.747329\n",
      "Average loss at step 8400: 13427.609090\n",
      "Average loss at step 8600: 13492.454994\n",
      "Average loss at step 8800: 13429.249400\n",
      "Average loss at step 9000: 13424.116582\n",
      "Average loss at step 9200: 13432.669405\n",
      "Average loss at step 9400: 13381.371235\n",
      "Average loss at step 9600: 13420.422432\n",
      "Average loss at step 9800: 13340.523994\n",
      "Average loss at step 10000: 13354.151137\n"
     ]
    }
   ],
   "source": [
    "\n",
    "num_steps = 10000\n",
    "skip_losses_hindi = []\n",
    "\n",
    "with tf.Session() as session:\n",
    "    tf.global_variables_initializer().run()\n",
    "    average_loss_hindi = 0\n",
    "    \n",
    "    for step in range(num_steps):\n",
    "        for batch_idx in range(len(data_hindi_train) // batch_size):\n",
    "            \n",
    "            batch_data_hindi = data_hindi_train[batch_size*batch_idx : batch_size*batch_idx + batch_size]\n",
    "            batch_data_hindi = np.asarray(batch_data_hindi)\n",
    "            \n",
    "            batch_label_hindi = data_hindi_label[batch_size*batch_idx : batch_size*batch_idx + batch_size]\n",
    "            batch_label_hindi = np.asarray(batch_label_hindi)\n",
    "            batch_label_hindi = batch_label_hindi.reshape((batch_size, 1))\n",
    "            \n",
    "            \n",
    "            feed_dict_hindi = {train_hindi_dataset: batch_data_hindi, train_hindi_labels: batch_label_hindi}\n",
    "            _, l_hindi = session.run([optimizer, loss_hindi], feed_dict = feed_dict_hindi)\n",
    "            \n",
    "            average_loss_hindi += l_hindi\n",
    "            \n",
    "            if (step + 1) % 200 == 0:\n",
    "                if step > 0:\n",
    "                    average_loss_hindi / 2000\n",
    "                skip_losses_hindi.append(average_loss_hindi)\n",
    "        if (step + 1) % 200 == 0:        \n",
    "            print('Average loss at step %d: %f' % (step+1, average_loss_hindi))\n",
    "            average_loss_hindi = 0\n",
    "            \n",
    "        embeddings_hin = embeddings_hindi.eval()\n",
    "\n",
    "np.save('hin-embeddings.npy', embeddings_hin)\n"
   ]
  },
  {
   "cell_type": "markdown",
   "metadata": {},
   "source": [
    "### NMT using TF seq2seq library"
   ]
  },
  {
   "cell_type": "markdown",
   "metadata": {},
   "source": [
    "### Data Generations for MT"
   ]
  },
  {
   "cell_type": "code",
   "execution_count": 54,
   "metadata": {},
   "outputs": [
    {
     "name": "stdout",
     "output_type": "stream",
     "text": [
      "Source data\n",
      "['wow!', 'help!', 'jump.', 'jump.', 'jump.']\n",
      "['<PAD>', '<PAD>', '<PAD>', '<PAD>', '<PAD>']\n",
      "['<PAD>', '<PAD>', '<PAD>', '<PAD>', '<PAD>']\n",
      "['<PAD>', '<PAD>', '<PAD>', '<PAD>', '<PAD>']\n",
      "['<PAD>', '<PAD>', '<PAD>', '<PAD>', '<PAD>']\n",
      "['<PAD>', '<PAD>', '<PAD>', '<PAD>', '<PAD>']\n",
      "['<PAD>', '<PAD>', '<PAD>', '<PAD>', '<PAD>']\n",
      "['<PAD>', '<PAD>', '<PAD>', '<PAD>', '<PAD>']\n",
      "['<PAD>', '<PAD>', '<PAD>', '<PAD>', '<PAD>']\n",
      "['<PAD>', '<PAD>', '<PAD>', '<PAD>', '<PAD>']\n",
      "['<PAD>', '<PAD>', '<PAD>', '<PAD>', '<PAD>']\n",
      "['<PAD>', '<PAD>', '<PAD>', '<PAD>', '<PAD>']\n",
      "['<PAD>', '<PAD>', '<PAD>', '<PAD>', '<PAD>']\n",
      "['<PAD>', '<PAD>', '<PAD>', '<PAD>', '<PAD>']\n",
      "['<PAD>', '<PAD>', '<PAD>', '<PAD>', '<PAD>']\n",
      "['<PAD>', '<PAD>', '<PAD>', '<PAD>', '<PAD>']\n",
      "['<PAD>', '<PAD>', '<PAD>', '<PAD>', '<PAD>']\n",
      "['<PAD>', '<PAD>', '<PAD>', '<PAD>', '<PAD>']\n",
      "['<PAD>', '<PAD>', '<PAD>', '<PAD>', '<PAD>']\n",
      "['<PAD>', '<PAD>', '<PAD>', '<PAD>', '<PAD>']\n",
      "\n",
      "Target data batch\n",
      "['वाह!', 'उछलो.', 'कूदो.', 'छलांग.', 'नमस्ते।']\n",
      "['<PAD>', '<PAD>', '<PAD>', '<PAD>', '<PAD>']\n",
      "['<PAD>', '<PAD>', '<PAD>', '<PAD>', '<PAD>']\n",
      "['<PAD>', '<PAD>', '<PAD>', '<PAD>', '<PAD>']\n",
      "['<PAD>', '<PAD>', '<PAD>', '<PAD>', '<PAD>']\n",
      "['<PAD>', '<PAD>', '<PAD>', '<PAD>', '<PAD>']\n",
      "['<PAD>', '<PAD>', '<PAD>', '<PAD>', '<PAD>']\n",
      "['<PAD>', '<PAD>', '<PAD>', '<PAD>', '<PAD>']\n",
      "['<PAD>', '<PAD>', '<PAD>', '<PAD>', '<PAD>']\n",
      "['<PAD>', '<PAD>', '<PAD>', '<PAD>', '<PAD>']\n",
      "['<PAD>', '<PAD>', '<PAD>', '<PAD>', '<PAD>']\n",
      "['<PAD>', '<PAD>', '<PAD>', '<PAD>', '<PAD>']\n",
      "['<PAD>', '<PAD>', '<PAD>', '<PAD>', '<PAD>']\n",
      "['<PAD>', '<PAD>', '<PAD>', '<PAD>', '<PAD>']\n",
      "['<PAD>', '<PAD>', '<PAD>', '<PAD>', '<PAD>']\n",
      "['<PAD>', '<PAD>', '<PAD>', '<PAD>', '<PAD>']\n",
      "['<PAD>', '<PAD>', '<PAD>', '<PAD>', '<PAD>']\n",
      "['<PAD>', '<PAD>', '<PAD>', '<PAD>', '<PAD>']\n",
      "['<PAD>', '<PAD>', '<PAD>', '<PAD>', '<PAD>']\n",
      "['<PAD>', '<PAD>', '<PAD>', '<PAD>', '<PAD>']\n"
     ]
    }
   ],
   "source": [
    "emb_mat = np.load('eng-embeddings.npy')\n",
    "input_size = emb_mat.shape[1]\n",
    "\n",
    "class DataGeneratorMT(object):\n",
    "    \n",
    "    def __init__(self,batch_size,num_unroll,is_source, is_train):\n",
    "        global input_size\n",
    "        self._batch_size = batch_size\n",
    "        self._num_unroll = num_unroll\n",
    "        self._cursor = [0 for offset in range(self._batch_size)]\n",
    "        \n",
    "        \n",
    "        self._sent_ids = None\n",
    "        \n",
    "        self._is_source = is_source\n",
    "        self._is_train = is_train\n",
    "                \n",
    "    def next_batch(self, sent_ids):\n",
    "        \n",
    "        \n",
    "        if self._is_source:\n",
    "            max_sent_length = eng_max_len\n",
    "        else:\n",
    "            max_sent_length = hin_max_len\n",
    "            \n",
    "        batch_data = np.zeros((self._batch_size),dtype=np.float32)\n",
    "        batch_labels = np.zeros((self._batch_size),dtype=np.float32)\n",
    "        \n",
    "        \n",
    "        for b in range(self._batch_size):\n",
    "            \n",
    "            sent_id = sent_ids[b]\n",
    "            \n",
    "            \n",
    "            if self._is_source:\n",
    "                \n",
    "                if self._is_train:\n",
    "                    sent_text = train_input[sent_id]\n",
    "                else:\n",
    "                    sent_text = test_input[sent_id]\n",
    "                             \n",
    "                batch_data[b] = sent_text[self._cursor[b]]\n",
    "                batch_labels[b] = sent_text[self._cursor[b]+1]\n",
    "            \n",
    "            else:\n",
    "                \n",
    "                if self._is_train:\n",
    "                    sent_text = train_output[sent_id]\n",
    "                else:\n",
    "                    sent_text = test_output[sent_id]\n",
    "                \n",
    "                \n",
    "                if sent_text[self._cursor[b]]!=hin_dict['<sos>']:\n",
    "                    batch_data[b] = sent_text[self._cursor[b]]\n",
    "                else:\n",
    "                    batch_data[b] = sent_text[self._cursor[b]]\n",
    "                \n",
    "                batch_labels[b] = sent_text[self._cursor[b]+1]\n",
    "            \n",
    "            self._cursor[b] = (self._cursor[b]+1)%(max_sent_length-1)\n",
    "             \n",
    "        return batch_data,batch_labels\n",
    "        \n",
    "    def unroll_batches(self,sent_ids):\n",
    "        \n",
    "        \n",
    "        if sent_ids is not None:\n",
    "            \n",
    "            self._sent_ids = sent_ids\n",
    "            \n",
    "            self._cursor = [0 for _ in range(self._batch_size)]\n",
    "                \n",
    "        unroll_data,unroll_labels = [],[]\n",
    "        \n",
    "        for ui in range(self._num_unroll):\n",
    "            \n",
    "            if self._is_source:\n",
    "                data, labels = self.next_batch(self._sent_ids)\n",
    "            else:\n",
    "                data, labels = self.next_batch(self._sent_ids)\n",
    "                    \n",
    "            unroll_data.append(data)\n",
    "            unroll_labels.append(labels)\n",
    "        \n",
    "        return unroll_data, unroll_labels, self._sent_ids\n",
    "    \n",
    "    def reset_indices(self):\n",
    "        self._cursor = [0 for offset in range(self._batch_size)]\n",
    "        \n",
    "dg = DataGeneratorMT(batch_size=5,num_unroll=20,is_source=True, is_train=True)\n",
    "u_data, u_labels, _ = dg.unroll_batches([0,1,2,3,4])\n",
    "\n",
    "print('Source data')\n",
    "for _, lbl in zip(u_data,u_labels):\n",
    "    print([rev_eng_dict[w] for w in lbl.tolist()])\n",
    "\n",
    "dg = DataGeneratorMT(batch_size=5,num_unroll=20,is_source=False, is_train=True)\n",
    "u_data, u_labels, _ = dg.unroll_batches([0,2,3,4,5])\n",
    "print('\\nTarget data batch')\n",
    "for d_i,(_, lbl) in enumerate(zip(u_data,u_labels)):\n",
    "    print([rev_hin_dict[w] for w in lbl.tolist()])"
   ]
  },
  {
   "cell_type": "markdown",
   "metadata": {},
   "source": [
    "### Hyperparameters"
   ]
  },
  {
   "cell_type": "code",
   "execution_count": 55,
   "metadata": {},
   "outputs": [],
   "source": [
    "vocab_size = 3158\n",
    "num_units = 128\n",
    "batch_size = 4\n",
    "source_sequence_length = 20\n",
    "target_sequence_length = 22\n",
    "learning_rate = 0.01"
   ]
  },
  {
   "cell_type": "markdown",
   "metadata": {},
   "source": [
    "### Defining the TensorFlow inputs and outputs"
   ]
  },
  {
   "cell_type": "code",
   "execution_count": 56,
   "metadata": {},
   "outputs": [],
   "source": [
    "tf.reset_default_graph()\n",
    "\n",
    "enc_train_inputs = []\n",
    "dec_train_inputs = []\n",
    "dec_train_labels = []\n",
    "\n",
    "encoder_emb_layer = tf.convert_to_tensor(np.load('eng-embeddings.npy'))\n",
    "decoder_emb_layer = tf.convert_to_tensor(np.load('hin-embeddings.npy'))\n",
    "\n",
    "for ui in range(source_sequence_length):\n",
    "    enc_train_inputs.append(tf.placeholder(tf.int32, shape=[batch_size],name='train_inputs_%d'%ui))\n",
    "\n",
    "for ui in range(target_sequence_length):\n",
    "    dec_train_inputs.append(tf.placeholder(tf.int32, shape=[batch_size],name='train_inputs_%d'%ui))\n",
    "    dec_train_labels.append(tf.placeholder(tf.int32, shape=[batch_size],name='train_outputs_%d'%ui))\n",
    "    \n",
    "encoder_emb_inp = [tf.nn.embedding_lookup(encoder_emb_layer, src) for src in enc_train_inputs]\n",
    "encoder_emb_inp = tf.stack(encoder_emb_inp)\n",
    "\n",
    "decoder_emb_inp = [tf.nn.embedding_lookup(decoder_emb_layer, src) for src in dec_train_inputs]\n",
    "decoder_emb_inp = tf.stack(decoder_emb_inp)"
   ]
  },
  {
   "cell_type": "markdown",
   "metadata": {},
   "source": [
    "### Encoder"
   ]
  },
  {
   "cell_type": "code",
   "execution_count": 57,
   "metadata": {},
   "outputs": [],
   "source": [
    "encoder_cell = tf.nn.rnn_cell.BasicLSTMCell(num_units)\n",
    "\n",
    "initial_state = encoder_cell.zero_state(batch_size, dtype=tf.float32)\n",
    "\n",
    "encoder_outputs, encoder_state = tf.nn.dynamic_rnn(\n",
    "    encoder_cell, encoder_emb_inp, initial_state=initial_state,\n",
    "    sequence_length=[source_sequence_length for _ in range(batch_size)], \n",
    "    time_major=True, swap_memory=True)"
   ]
  },
  {
   "cell_type": "markdown",
   "metadata": {},
   "source": [
    "### Decoder"
   ]
  },
  {
   "cell_type": "code",
   "execution_count": 58,
   "metadata": {},
   "outputs": [],
   "source": [
    "decoder_cell = tf.nn.rnn_cell.BasicLSTMCell(num_units)\n",
    "\n",
    "projection_layer = Dense(units=vocab_size, use_bias=True)\n",
    "\n",
    "helper = tf.contrib.seq2seq.TrainingHelper(\n",
    "    decoder_emb_inp, [target_sequence_length for _ in range(batch_size)], time_major=True)\n",
    "\n",
    "decoder = tf.contrib.seq2seq.BasicDecoder(\n",
    "        decoder_cell, helper, encoder_state,\n",
    "        output_layer=projection_layer)\n",
    "\n",
    "outputs, _, _ = tf.contrib.seq2seq.dynamic_decode(\n",
    "                decoder, output_time_major=True,\n",
    "                swap_memory=True\n",
    "                )\n",
    "\n",
    "logits = outputs.rnn_output\n",
    "train_prediction = outputs.sample_id\n",
    "\n",
    "crossent = tf.nn.sparse_softmax_cross_entropy_with_logits(\n",
    "    labels=dec_train_labels, logits=logits)\n",
    "loss = tf.reduce_mean(crossent)"
   ]
  },
  {
   "cell_type": "markdown",
   "metadata": {},
   "source": [
    "### Optimizer"
   ]
  },
  {
   "cell_type": "code",
   "execution_count": 59,
   "metadata": {},
   "outputs": [
    {
     "name": "stderr",
     "output_type": "stream",
     "text": [
      "/home/monu/anaconda3/envs/tensorflow/lib/python3.5/site-packages/tensorflow/python/client/session.py:1711: UserWarning: An interactive session is already active. This can cause out-of-memory errors in some cases. You must explicitly call `InteractiveSession.close()` to release resources held by the other session(s).\n",
      "  warnings.warn('An interactive session is already active. This can '\n"
     ]
    }
   ],
   "source": [
    "optimizer = tf.train.AdamOptimizer(learning_rate)\n",
    "\n",
    "gradients, v = zip(*optimizer.compute_gradients(loss))\n",
    "gradients, _ = tf.clip_by_global_norm(gradients, 5.0)\n",
    "optimize = optimizer.apply_gradients(zip(gradients, v))\n",
    "\n",
    "sess = tf.InteractiveSession()"
   ]
  },
  {
   "cell_type": "markdown",
   "metadata": {},
   "source": [
    "### Running the Seq2seq NMT"
   ]
  },
  {
   "cell_type": "code",
   "execution_count": 60,
   "metadata": {},
   "outputs": [
    {
     "name": "stdout",
     "output_type": "stream",
     "text": [
      "......................................................."
     ]
    },
    {
     "ename": "InvalidArgumentError",
     "evalue": "Received a label value of 3158 which is outside the valid range of [0, 3158).  Label values: 15 2253 483 1581 2638 2759 2337 754 1549 3158 1050 799 2367 153 838 2 1568 2 863 2 3098 2 1895 2 491 2 1821 2 2 2 286 2 2 2 2454 2 2 2 954 2 2 2 2 2 2 2 2 2 2 2 2 2 2 2 2 2 2 2 2 2 2 2 2 2 2 2 2 2 2 2 2 2 2 2 2 2 2 2 2 2 2 2 2 2 2 2 2 2\n\t [[Node: SparseSoftmaxCrossEntropyWithLogits/SparseSoftmaxCrossEntropyWithLogits = SparseSoftmaxCrossEntropyWithLogits[T=DT_FLOAT, Tlabels=DT_INT32, _device=\"/job:localhost/replica:0/task:0/device:CPU:0\"](SparseSoftmaxCrossEntropyWithLogits/Reshape, SparseSoftmaxCrossEntropyWithLogits/Reshape_1)]]\n\nCaused by op 'SparseSoftmaxCrossEntropyWithLogits/SparseSoftmaxCrossEntropyWithLogits', defined at:\n  File \"/home/monu/anaconda3/envs/tensorflow/lib/python3.5/runpy.py\", line 193, in _run_module_as_main\n    \"__main__\", mod_spec)\n  File \"/home/monu/anaconda3/envs/tensorflow/lib/python3.5/runpy.py\", line 85, in _run_code\n    exec(code, run_globals)\n  File \"/home/monu/.local/lib/python3.5/site-packages/ipykernel_launcher.py\", line 16, in <module>\n    app.launch_new_instance()\n  File \"/home/monu/.local/lib/python3.5/site-packages/traitlets/config/application.py\", line 658, in launch_instance\n    app.start()\n  File \"/home/monu/.local/lib/python3.5/site-packages/ipykernel/kernelapp.py\", line 477, in start\n    ioloop.IOLoop.instance().start()\n  File \"/home/monu/.local/lib/python3.5/site-packages/zmq/eventloop/ioloop.py\", line 177, in start\n    super(ZMQIOLoop, self).start()\n  File \"/home/monu/.local/lib/python3.5/site-packages/tornado/ioloop.py\", line 888, in start\n    handler_func(fd_obj, events)\n  File \"/home/monu/.local/lib/python3.5/site-packages/tornado/stack_context.py\", line 277, in null_wrapper\n    return fn(*args, **kwargs)\n  File \"/home/monu/.local/lib/python3.5/site-packages/zmq/eventloop/zmqstream.py\", line 440, in _handle_events\n    self._handle_recv()\n  File \"/home/monu/.local/lib/python3.5/site-packages/zmq/eventloop/zmqstream.py\", line 472, in _handle_recv\n    self._run_callback(callback, msg)\n  File \"/home/monu/.local/lib/python3.5/site-packages/zmq/eventloop/zmqstream.py\", line 414, in _run_callback\n    callback(*args, **kwargs)\n  File \"/home/monu/.local/lib/python3.5/site-packages/tornado/stack_context.py\", line 277, in null_wrapper\n    return fn(*args, **kwargs)\n  File \"/home/monu/.local/lib/python3.5/site-packages/ipykernel/kernelbase.py\", line 283, in dispatcher\n    return self.dispatch_shell(stream, msg)\n  File \"/home/monu/.local/lib/python3.5/site-packages/ipykernel/kernelbase.py\", line 235, in dispatch_shell\n    handler(stream, idents, msg)\n  File \"/home/monu/.local/lib/python3.5/site-packages/ipykernel/kernelbase.py\", line 399, in execute_request\n    user_expressions, allow_stdin)\n  File \"/home/monu/.local/lib/python3.5/site-packages/ipykernel/ipkernel.py\", line 196, in do_execute\n    res = shell.run_cell(code, store_history=store_history, silent=silent)\n  File \"/home/monu/.local/lib/python3.5/site-packages/ipykernel/zmqshell.py\", line 533, in run_cell\n    return super(ZMQInteractiveShell, self).run_cell(*args, **kwargs)\n  File \"/home/monu/.local/lib/python3.5/site-packages/IPython/core/interactiveshell.py\", line 2728, in run_cell\n    interactivity=interactivity, compiler=compiler, result=result)\n  File \"/home/monu/.local/lib/python3.5/site-packages/IPython/core/interactiveshell.py\", line 2850, in run_ast_nodes\n    if self.run_code(code, result):\n  File \"/home/monu/.local/lib/python3.5/site-packages/IPython/core/interactiveshell.py\", line 2910, in run_code\n    exec(code_obj, self.user_global_ns, self.user_ns)\n  File \"<ipython-input-58-b486a1ce8578>\", line 21, in <module>\n    labels=dec_train_labels, logits=logits)\n  File \"/home/monu/anaconda3/envs/tensorflow/lib/python3.5/site-packages/tensorflow/python/ops/nn_ops.py\", line 2072, in sparse_softmax_cross_entropy_with_logits\n    precise_logits, labels, name=name)\n  File \"/home/monu/anaconda3/envs/tensorflow/lib/python3.5/site-packages/tensorflow/python/ops/gen_nn_ops.py\", line 7479, in sparse_softmax_cross_entropy_with_logits\n    labels=labels, name=name)\n  File \"/home/monu/anaconda3/envs/tensorflow/lib/python3.5/site-packages/tensorflow/python/framework/op_def_library.py\", line 787, in _apply_op_helper\n    op_def=op_def)\n  File \"/home/monu/anaconda3/envs/tensorflow/lib/python3.5/site-packages/tensorflow/python/framework/ops.py\", line 3392, in create_op\n    op_def=op_def)\n  File \"/home/monu/anaconda3/envs/tensorflow/lib/python3.5/site-packages/tensorflow/python/framework/ops.py\", line 1718, in __init__\n    self._traceback = self._graph._extract_stack()  # pylint: disable=protected-access\n\nInvalidArgumentError (see above for traceback): Received a label value of 3158 which is outside the valid range of [0, 3158).  Label values: 15 2253 483 1581 2638 2759 2337 754 1549 3158 1050 799 2367 153 838 2 1568 2 863 2 3098 2 1895 2 491 2 1821 2 2 2 286 2 2 2 2454 2 2 2 954 2 2 2 2 2 2 2 2 2 2 2 2 2 2 2 2 2 2 2 2 2 2 2 2 2 2 2 2 2 2 2 2 2 2 2 2 2 2 2 2 2 2 2 2 2 2 2 2 2\n\t [[Node: SparseSoftmaxCrossEntropyWithLogits/SparseSoftmaxCrossEntropyWithLogits = SparseSoftmaxCrossEntropyWithLogits[T=DT_FLOAT, Tlabels=DT_INT32, _device=\"/job:localhost/replica:0/task:0/device:CPU:0\"](SparseSoftmaxCrossEntropyWithLogits/Reshape, SparseSoftmaxCrossEntropyWithLogits/Reshape_1)]]\n",
     "output_type": "error",
     "traceback": [
      "\u001b[0;31m---------------------------------------------------------------------------\u001b[0m",
      "\u001b[0;31mInvalidArgumentError\u001b[0m                      Traceback (most recent call last)",
      "\u001b[0;32m~/anaconda3/envs/tensorflow/lib/python3.5/site-packages/tensorflow/python/client/session.py\u001b[0m in \u001b[0;36m_do_call\u001b[0;34m(self, fn, *args)\u001b[0m\n\u001b[1;32m   1321\u001b[0m     \u001b[0;32mtry\u001b[0m\u001b[0;34m:\u001b[0m\u001b[0;34m\u001b[0m\u001b[0m\n\u001b[0;32m-> 1322\u001b[0;31m       \u001b[0;32mreturn\u001b[0m \u001b[0mfn\u001b[0m\u001b[0;34m(\u001b[0m\u001b[0;34m*\u001b[0m\u001b[0margs\u001b[0m\u001b[0;34m)\u001b[0m\u001b[0;34m\u001b[0m\u001b[0m\n\u001b[0m\u001b[1;32m   1323\u001b[0m     \u001b[0;32mexcept\u001b[0m \u001b[0merrors\u001b[0m\u001b[0;34m.\u001b[0m\u001b[0mOpError\u001b[0m \u001b[0;32mas\u001b[0m \u001b[0me\u001b[0m\u001b[0;34m:\u001b[0m\u001b[0;34m\u001b[0m\u001b[0m\n",
      "\u001b[0;32m~/anaconda3/envs/tensorflow/lib/python3.5/site-packages/tensorflow/python/client/session.py\u001b[0m in \u001b[0;36m_run_fn\u001b[0;34m(feed_dict, fetch_list, target_list, options, run_metadata)\u001b[0m\n\u001b[1;32m   1306\u001b[0m       return self._call_tf_sessionrun(\n\u001b[0;32m-> 1307\u001b[0;31m           options, feed_dict, fetch_list, target_list, run_metadata)\n\u001b[0m\u001b[1;32m   1308\u001b[0m \u001b[0;34m\u001b[0m\u001b[0m\n",
      "\u001b[0;32m~/anaconda3/envs/tensorflow/lib/python3.5/site-packages/tensorflow/python/client/session.py\u001b[0m in \u001b[0;36m_call_tf_sessionrun\u001b[0;34m(self, options, feed_dict, fetch_list, target_list, run_metadata)\u001b[0m\n\u001b[1;32m   1408\u001b[0m           \u001b[0mself\u001b[0m\u001b[0;34m.\u001b[0m\u001b[0m_session\u001b[0m\u001b[0;34m,\u001b[0m \u001b[0moptions\u001b[0m\u001b[0;34m,\u001b[0m \u001b[0mfeed_dict\u001b[0m\u001b[0;34m,\u001b[0m \u001b[0mfetch_list\u001b[0m\u001b[0;34m,\u001b[0m \u001b[0mtarget_list\u001b[0m\u001b[0;34m,\u001b[0m\u001b[0;34m\u001b[0m\u001b[0m\n\u001b[0;32m-> 1409\u001b[0;31m           run_metadata)\n\u001b[0m\u001b[1;32m   1410\u001b[0m     \u001b[0;32melse\u001b[0m\u001b[0;34m:\u001b[0m\u001b[0;34m\u001b[0m\u001b[0m\n",
      "\u001b[0;31mInvalidArgumentError\u001b[0m: Received a label value of 3158 which is outside the valid range of [0, 3158).  Label values: 15 2253 483 1581 2638 2759 2337 754 1549 3158 1050 799 2367 153 838 2 1568 2 863 2 3098 2 1895 2 491 2 1821 2 2 2 286 2 2 2 2454 2 2 2 954 2 2 2 2 2 2 2 2 2 2 2 2 2 2 2 2 2 2 2 2 2 2 2 2 2 2 2 2 2 2 2 2 2 2 2 2 2 2 2 2 2 2 2 2 2 2 2 2 2\n\t [[Node: SparseSoftmaxCrossEntropyWithLogits/SparseSoftmaxCrossEntropyWithLogits = SparseSoftmaxCrossEntropyWithLogits[T=DT_FLOAT, Tlabels=DT_INT32, _device=\"/job:localhost/replica:0/task:0/device:CPU:0\"](SparseSoftmaxCrossEntropyWithLogits/Reshape, SparseSoftmaxCrossEntropyWithLogits/Reshape_1)]]",
      "\nDuring handling of the above exception, another exception occurred:\n",
      "\u001b[0;31mInvalidArgumentError\u001b[0m                      Traceback (most recent call last)",
      "\u001b[0;32m<ipython-input-60-1982a412d08c>\u001b[0m in \u001b[0;36m<module>\u001b[0;34m()\u001b[0m\n\u001b[1;32m     35\u001b[0m \u001b[0;34m\u001b[0m\u001b[0m\n\u001b[1;32m     36\u001b[0m \u001b[0;34m\u001b[0m\u001b[0m\n\u001b[0;32m---> 37\u001b[0;31m     \u001b[0m_\u001b[0m\u001b[0;34m,\u001b[0m\u001b[0ml\u001b[0m\u001b[0;34m,\u001b[0m\u001b[0mtr_pred\u001b[0m \u001b[0;34m=\u001b[0m \u001b[0msess\u001b[0m\u001b[0;34m.\u001b[0m\u001b[0mrun\u001b[0m\u001b[0;34m(\u001b[0m\u001b[0;34m[\u001b[0m\u001b[0moptimize\u001b[0m\u001b[0;34m,\u001b[0m\u001b[0mloss\u001b[0m\u001b[0;34m,\u001b[0m\u001b[0mtrain_prediction\u001b[0m\u001b[0;34m]\u001b[0m\u001b[0;34m,\u001b[0m \u001b[0mfeed_dict\u001b[0m\u001b[0;34m=\u001b[0m\u001b[0mfeed_dict\u001b[0m\u001b[0;34m)\u001b[0m\u001b[0;34m\u001b[0m\u001b[0m\n\u001b[0m\u001b[1;32m     38\u001b[0m     \u001b[0mtr_pred\u001b[0m \u001b[0;34m=\u001b[0m \u001b[0mtr_pred\u001b[0m\u001b[0;34m.\u001b[0m\u001b[0mflatten\u001b[0m\u001b[0;34m(\u001b[0m\u001b[0;34m)\u001b[0m\u001b[0;34m\u001b[0m\u001b[0m\n\u001b[1;32m     39\u001b[0m \u001b[0;34m\u001b[0m\u001b[0m\n",
      "\u001b[0;32m~/anaconda3/envs/tensorflow/lib/python3.5/site-packages/tensorflow/python/client/session.py\u001b[0m in \u001b[0;36mrun\u001b[0;34m(self, fetches, feed_dict, options, run_metadata)\u001b[0m\n\u001b[1;32m    898\u001b[0m     \u001b[0;32mtry\u001b[0m\u001b[0;34m:\u001b[0m\u001b[0;34m\u001b[0m\u001b[0m\n\u001b[1;32m    899\u001b[0m       result = self._run(None, fetches, feed_dict, options_ptr,\n\u001b[0;32m--> 900\u001b[0;31m                          run_metadata_ptr)\n\u001b[0m\u001b[1;32m    901\u001b[0m       \u001b[0;32mif\u001b[0m \u001b[0mrun_metadata\u001b[0m\u001b[0;34m:\u001b[0m\u001b[0;34m\u001b[0m\u001b[0m\n\u001b[1;32m    902\u001b[0m         \u001b[0mproto_data\u001b[0m \u001b[0;34m=\u001b[0m \u001b[0mtf_session\u001b[0m\u001b[0;34m.\u001b[0m\u001b[0mTF_GetBuffer\u001b[0m\u001b[0;34m(\u001b[0m\u001b[0mrun_metadata_ptr\u001b[0m\u001b[0;34m)\u001b[0m\u001b[0;34m\u001b[0m\u001b[0m\n",
      "\u001b[0;32m~/anaconda3/envs/tensorflow/lib/python3.5/site-packages/tensorflow/python/client/session.py\u001b[0m in \u001b[0;36m_run\u001b[0;34m(self, handle, fetches, feed_dict, options, run_metadata)\u001b[0m\n\u001b[1;32m   1133\u001b[0m     \u001b[0;32mif\u001b[0m \u001b[0mfinal_fetches\u001b[0m \u001b[0;32mor\u001b[0m \u001b[0mfinal_targets\u001b[0m \u001b[0;32mor\u001b[0m \u001b[0;34m(\u001b[0m\u001b[0mhandle\u001b[0m \u001b[0;32mand\u001b[0m \u001b[0mfeed_dict_tensor\u001b[0m\u001b[0;34m)\u001b[0m\u001b[0;34m:\u001b[0m\u001b[0;34m\u001b[0m\u001b[0m\n\u001b[1;32m   1134\u001b[0m       results = self._do_run(handle, final_targets, final_fetches,\n\u001b[0;32m-> 1135\u001b[0;31m                              feed_dict_tensor, options, run_metadata)\n\u001b[0m\u001b[1;32m   1136\u001b[0m     \u001b[0;32melse\u001b[0m\u001b[0;34m:\u001b[0m\u001b[0;34m\u001b[0m\u001b[0m\n\u001b[1;32m   1137\u001b[0m       \u001b[0mresults\u001b[0m \u001b[0;34m=\u001b[0m \u001b[0;34m[\u001b[0m\u001b[0;34m]\u001b[0m\u001b[0;34m\u001b[0m\u001b[0m\n",
      "\u001b[0;32m~/anaconda3/envs/tensorflow/lib/python3.5/site-packages/tensorflow/python/client/session.py\u001b[0m in \u001b[0;36m_do_run\u001b[0;34m(self, handle, target_list, fetch_list, feed_dict, options, run_metadata)\u001b[0m\n\u001b[1;32m   1314\u001b[0m     \u001b[0;32mif\u001b[0m \u001b[0mhandle\u001b[0m \u001b[0;32mis\u001b[0m \u001b[0;32mNone\u001b[0m\u001b[0;34m:\u001b[0m\u001b[0;34m\u001b[0m\u001b[0m\n\u001b[1;32m   1315\u001b[0m       return self._do_call(_run_fn, feeds, fetches, targets, options,\n\u001b[0;32m-> 1316\u001b[0;31m                            run_metadata)\n\u001b[0m\u001b[1;32m   1317\u001b[0m     \u001b[0;32melse\u001b[0m\u001b[0;34m:\u001b[0m\u001b[0;34m\u001b[0m\u001b[0m\n\u001b[1;32m   1318\u001b[0m       \u001b[0;32mreturn\u001b[0m \u001b[0mself\u001b[0m\u001b[0;34m.\u001b[0m\u001b[0m_do_call\u001b[0m\u001b[0;34m(\u001b[0m\u001b[0m_prun_fn\u001b[0m\u001b[0;34m,\u001b[0m \u001b[0mhandle\u001b[0m\u001b[0;34m,\u001b[0m \u001b[0mfeeds\u001b[0m\u001b[0;34m,\u001b[0m \u001b[0mfetches\u001b[0m\u001b[0;34m)\u001b[0m\u001b[0;34m\u001b[0m\u001b[0m\n",
      "\u001b[0;32m~/anaconda3/envs/tensorflow/lib/python3.5/site-packages/tensorflow/python/client/session.py\u001b[0m in \u001b[0;36m_do_call\u001b[0;34m(self, fn, *args)\u001b[0m\n\u001b[1;32m   1333\u001b[0m         \u001b[0;32mexcept\u001b[0m \u001b[0mKeyError\u001b[0m\u001b[0;34m:\u001b[0m\u001b[0;34m\u001b[0m\u001b[0m\n\u001b[1;32m   1334\u001b[0m           \u001b[0;32mpass\u001b[0m\u001b[0;34m\u001b[0m\u001b[0m\n\u001b[0;32m-> 1335\u001b[0;31m       \u001b[0;32mraise\u001b[0m \u001b[0mtype\u001b[0m\u001b[0;34m(\u001b[0m\u001b[0me\u001b[0m\u001b[0;34m)\u001b[0m\u001b[0;34m(\u001b[0m\u001b[0mnode_def\u001b[0m\u001b[0;34m,\u001b[0m \u001b[0mop\u001b[0m\u001b[0;34m,\u001b[0m \u001b[0mmessage\u001b[0m\u001b[0;34m)\u001b[0m\u001b[0;34m\u001b[0m\u001b[0m\n\u001b[0m\u001b[1;32m   1336\u001b[0m \u001b[0;34m\u001b[0m\u001b[0m\n\u001b[1;32m   1337\u001b[0m   \u001b[0;32mdef\u001b[0m \u001b[0m_extend_graph\u001b[0m\u001b[0;34m(\u001b[0m\u001b[0mself\u001b[0m\u001b[0;34m)\u001b[0m\u001b[0;34m:\u001b[0m\u001b[0;34m\u001b[0m\u001b[0m\n",
      "\u001b[0;31mInvalidArgumentError\u001b[0m: Received a label value of 3158 which is outside the valid range of [0, 3158).  Label values: 15 2253 483 1581 2638 2759 2337 754 1549 3158 1050 799 2367 153 838 2 1568 2 863 2 3098 2 1895 2 491 2 1821 2 2 2 286 2 2 2 2454 2 2 2 954 2 2 2 2 2 2 2 2 2 2 2 2 2 2 2 2 2 2 2 2 2 2 2 2 2 2 2 2 2 2 2 2 2 2 2 2 2 2 2 2 2 2 2 2 2 2 2 2 2\n\t [[Node: SparseSoftmaxCrossEntropyWithLogits/SparseSoftmaxCrossEntropyWithLogits = SparseSoftmaxCrossEntropyWithLogits[T=DT_FLOAT, Tlabels=DT_INT32, _device=\"/job:localhost/replica:0/task:0/device:CPU:0\"](SparseSoftmaxCrossEntropyWithLogits/Reshape, SparseSoftmaxCrossEntropyWithLogits/Reshape_1)]]\n\nCaused by op 'SparseSoftmaxCrossEntropyWithLogits/SparseSoftmaxCrossEntropyWithLogits', defined at:\n  File \"/home/monu/anaconda3/envs/tensorflow/lib/python3.5/runpy.py\", line 193, in _run_module_as_main\n    \"__main__\", mod_spec)\n  File \"/home/monu/anaconda3/envs/tensorflow/lib/python3.5/runpy.py\", line 85, in _run_code\n    exec(code, run_globals)\n  File \"/home/monu/.local/lib/python3.5/site-packages/ipykernel_launcher.py\", line 16, in <module>\n    app.launch_new_instance()\n  File \"/home/monu/.local/lib/python3.5/site-packages/traitlets/config/application.py\", line 658, in launch_instance\n    app.start()\n  File \"/home/monu/.local/lib/python3.5/site-packages/ipykernel/kernelapp.py\", line 477, in start\n    ioloop.IOLoop.instance().start()\n  File \"/home/monu/.local/lib/python3.5/site-packages/zmq/eventloop/ioloop.py\", line 177, in start\n    super(ZMQIOLoop, self).start()\n  File \"/home/monu/.local/lib/python3.5/site-packages/tornado/ioloop.py\", line 888, in start\n    handler_func(fd_obj, events)\n  File \"/home/monu/.local/lib/python3.5/site-packages/tornado/stack_context.py\", line 277, in null_wrapper\n    return fn(*args, **kwargs)\n  File \"/home/monu/.local/lib/python3.5/site-packages/zmq/eventloop/zmqstream.py\", line 440, in _handle_events\n    self._handle_recv()\n  File \"/home/monu/.local/lib/python3.5/site-packages/zmq/eventloop/zmqstream.py\", line 472, in _handle_recv\n    self._run_callback(callback, msg)\n  File \"/home/monu/.local/lib/python3.5/site-packages/zmq/eventloop/zmqstream.py\", line 414, in _run_callback\n    callback(*args, **kwargs)\n  File \"/home/monu/.local/lib/python3.5/site-packages/tornado/stack_context.py\", line 277, in null_wrapper\n    return fn(*args, **kwargs)\n  File \"/home/monu/.local/lib/python3.5/site-packages/ipykernel/kernelbase.py\", line 283, in dispatcher\n    return self.dispatch_shell(stream, msg)\n  File \"/home/monu/.local/lib/python3.5/site-packages/ipykernel/kernelbase.py\", line 235, in dispatch_shell\n    handler(stream, idents, msg)\n  File \"/home/monu/.local/lib/python3.5/site-packages/ipykernel/kernelbase.py\", line 399, in execute_request\n    user_expressions, allow_stdin)\n  File \"/home/monu/.local/lib/python3.5/site-packages/ipykernel/ipkernel.py\", line 196, in do_execute\n    res = shell.run_cell(code, store_history=store_history, silent=silent)\n  File \"/home/monu/.local/lib/python3.5/site-packages/ipykernel/zmqshell.py\", line 533, in run_cell\n    return super(ZMQInteractiveShell, self).run_cell(*args, **kwargs)\n  File \"/home/monu/.local/lib/python3.5/site-packages/IPython/core/interactiveshell.py\", line 2728, in run_cell\n    interactivity=interactivity, compiler=compiler, result=result)\n  File \"/home/monu/.local/lib/python3.5/site-packages/IPython/core/interactiveshell.py\", line 2850, in run_ast_nodes\n    if self.run_code(code, result):\n  File \"/home/monu/.local/lib/python3.5/site-packages/IPython/core/interactiveshell.py\", line 2910, in run_code\n    exec(code_obj, self.user_global_ns, self.user_ns)\n  File \"<ipython-input-58-b486a1ce8578>\", line 21, in <module>\n    labels=dec_train_labels, logits=logits)\n  File \"/home/monu/anaconda3/envs/tensorflow/lib/python3.5/site-packages/tensorflow/python/ops/nn_ops.py\", line 2072, in sparse_softmax_cross_entropy_with_logits\n    precise_logits, labels, name=name)\n  File \"/home/monu/anaconda3/envs/tensorflow/lib/python3.5/site-packages/tensorflow/python/ops/gen_nn_ops.py\", line 7479, in sparse_softmax_cross_entropy_with_logits\n    labels=labels, name=name)\n  File \"/home/monu/anaconda3/envs/tensorflow/lib/python3.5/site-packages/tensorflow/python/framework/op_def_library.py\", line 787, in _apply_op_helper\n    op_def=op_def)\n  File \"/home/monu/anaconda3/envs/tensorflow/lib/python3.5/site-packages/tensorflow/python/framework/ops.py\", line 3392, in create_op\n    op_def=op_def)\n  File \"/home/monu/anaconda3/envs/tensorflow/lib/python3.5/site-packages/tensorflow/python/framework/ops.py\", line 1718, in __init__\n    self._traceback = self._graph._extract_stack()  # pylint: disable=protected-access\n\nInvalidArgumentError (see above for traceback): Received a label value of 3158 which is outside the valid range of [0, 3158).  Label values: 15 2253 483 1581 2638 2759 2337 754 1549 3158 1050 799 2367 153 838 2 1568 2 863 2 3098 2 1895 2 491 2 1821 2 2 2 286 2 2 2 2454 2 2 2 954 2 2 2 2 2 2 2 2 2 2 2 2 2 2 2 2 2 2 2 2 2 2 2 2 2 2 2 2 2 2 2 2 2 2 2 2 2 2 2 2 2 2 2 2 2 2 2 2 2\n\t [[Node: SparseSoftmaxCrossEntropyWithLogits/SparseSoftmaxCrossEntropyWithLogits = SparseSoftmaxCrossEntropyWithLogits[T=DT_FLOAT, Tlabels=DT_INT32, _device=\"/job:localhost/replica:0/task:0/device:CPU:0\"](SparseSoftmaxCrossEntropyWithLogits/Reshape, SparseSoftmaxCrossEntropyWithLogits/Reshape_1)]]\n"
     ]
    }
   ],
   "source": [
    "loss_over_time = []\n",
    "tf.global_variables_initializer().run()\n",
    "\n",
    "src_word_embeddings = np.load('eng-embeddings.npy')\n",
    "tgt_word_embeddings = np.load('hin-embeddings.npy')\n",
    "\n",
    "num_steps = 10001\n",
    "avg_loss = 0\n",
    "\n",
    "enc_data_generator = DataGeneratorMT(\n",
    "    batch_size=batch_size,num_unroll=source_sequence_length,is_train=True, is_source=True)\n",
    "dec_data_generator = DataGeneratorMT(\n",
    "    batch_size=batch_size,num_unroll=target_sequence_length,is_train=True, is_source=False)\n",
    "\n",
    "for step in range(num_steps):\n",
    "\n",
    "    \n",
    "    print('.',end='')\n",
    "    if (step+1)%100==0:\n",
    "        print('')\n",
    "        \n",
    "    sent_ids = np.random.randint(low=0,high=train_input.shape[0],size=(batch_size))\n",
    "\n",
    "    eu_data, eu_labels, _ = enc_data_generator.unroll_batches(sent_ids=sent_ids)\n",
    "    \n",
    "    du_data, du_labels, _ = dec_data_generator.unroll_batches(sent_ids=sent_ids)\n",
    "    \n",
    "    feed_dict = {}\n",
    "    for ui,(dat,lbl) in enumerate(zip(eu_data,eu_labels)):            \n",
    "        feed_dict[enc_train_inputs[ui]] = dat                \n",
    "    \n",
    "    for ui,(dat,lbl) in enumerate(zip(du_data,du_labels)):            \n",
    "        feed_dict[dec_train_inputs[ui]] = dat\n",
    "        feed_dict[dec_train_labels[ui]] = lbl\n",
    "\n",
    "    \n",
    "    _,l,tr_pred = sess.run([optimize,loss,train_prediction], feed_dict=feed_dict)\n",
    "    tr_pred = tr_pred.flatten()\n",
    "    \n",
    "    if (step+1)%100==0:  \n",
    "        \n",
    "        print('Step ',step+1)\n",
    "\n",
    "        print_str = 'Actual: '\n",
    "        for w in np.concatenate(du_labels,axis=0)[::batch_size].tolist():\n",
    "            print_str += rev_hin_dict[w] + ' '                    \n",
    "            if rev_hin_dict[w] == '<eos>':\n",
    "                break\n",
    "                      \n",
    "        print(print_str)\n",
    "        print()\n",
    "        \n",
    "        print_str = 'Predicted: '\n",
    "        for w in tr_pred[::batch_size].tolist():\n",
    "            print_str += rev_hin_dict[w] + ' '\n",
    "            if rev_hin_dict[w] == '<eos>':\n",
    "                break\n",
    "        print(print_str)\n",
    "       \n",
    "        print('\\n')\n",
    "        \n",
    "        rand_idx = np.random.randint(low=1,high=batch_size)\n",
    "        print_str = 'Actual: '\n",
    "        for w in np.concatenate(du_labels,axis=0)[rand_idx::batch_size].tolist():\n",
    "            print_str += rev_hin_dict[w] + ' '\n",
    "            if rev_hin_dict[w] == '<eos>':\n",
    "                break\n",
    "        print(print_str)\n",
    "\n",
    "            \n",
    "        print()\n",
    "        print_str = 'Predicted: '\n",
    "        for w in tr_pred[rand_idx::batch_size].tolist():\n",
    "            print_str += rev_hin_dict[w] + ' '\n",
    "            if rev_hin_dict[w] == '<eos>':\n",
    "                break\n",
    "        print(print_str)\n",
    "        print() \n",
    "    \n",
    "    avg_loss += l \n",
    "    \n",
    "    if (step+1)%500==0:\n",
    "        print('============= Step ', str(step+1), ' =============')\n",
    "        print('\\t Loss: ',avg_loss/500.0)\n",
    "        \n",
    "        loss_over_time.append(avg_loss/500.0)\n",
    "             \n",
    "        avg_loss = 0.0"
   ]
  },
  {
   "cell_type": "code",
   "execution_count": null,
   "metadata": {},
   "outputs": [],
   "source": []
  }
 ],
 "metadata": {
  "kernelspec": {
   "display_name": "Python 3",
   "language": "python",
   "name": "python3"
  },
  "language_info": {
   "codemirror_mode": {
    "name": "ipython",
    "version": 3
   },
   "file_extension": ".py",
   "mimetype": "text/x-python",
   "name": "python",
   "nbconvert_exporter": "python",
   "pygments_lexer": "ipython3",
   "version": "3.5.4"
  }
 },
 "nbformat": 4,
 "nbformat_minor": 2
}
