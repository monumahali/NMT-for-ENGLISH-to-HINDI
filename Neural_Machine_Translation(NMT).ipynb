{
 "cells": [
  {
   "cell_type": "markdown",
   "metadata": {},
   "source": [
    "## NMT for English to Hindi"
   ]
  },
  {
   "cell_type": "code",
   "execution_count": 93,
   "metadata": {},
   "outputs": [],
   "source": [
    "import os\n",
    "import tensorflow as tf\n",
    "import random\n",
    "import numpy as np\n",
    "import math\n",
    "from tensorflow.python.layers.core import Dense"
   ]
  },
  {
   "cell_type": "markdown",
   "metadata": {},
   "source": [
    "### Loading data"
   ]
  },
  {
   "cell_type": "code",
   "execution_count": 52,
   "metadata": {},
   "outputs": [
    {
     "name": "stdout",
     "output_type": "stream",
     "text": [
      "['wow!', 'help!', 'jump.', 'jump.', 'jump.', 'hello!', 'hello!', 'cheers!', 'cheers!', 'got it?']\n",
      "['वाह!', 'बचाओ!', 'उछलो.', 'कूदो.', 'छलांग.', 'नमस्ते।', 'नमस्कार।', 'वाह-वाह!', 'चियर्स!', 'समझे कि नहीं?']\n",
      "\n",
      "length of english sentences: 2867\n",
      "length of hindi sentences: 2867\n"
     ]
    }
   ],
   "source": [
    "# To do: separate the punctuation from words\n",
    "english = []\n",
    "hindi = []\n",
    "with open(os.path.join('hin-eng', 'hin.txt')) as f:\n",
    "    for line in f:\n",
    "        eng, hin = line.split('\\t')\n",
    "        # hindi is having a newline character '\\n' at the end\n",
    "        hin = hin[:-1]\n",
    "        english.append(eng.lower())\n",
    "        hindi.append(hin)\n",
    "        \n",
    "    assert len(english) == len(hindi)\n",
    "    \n",
    "    print(english[:10])\n",
    "    print(hindi[:10])\n",
    "    \n",
    "    print('\\nlength of english sentences:', len(english))\n",
    "    print('length of hindi sentences:', len(hindi))"
   ]
  },
  {
   "cell_type": "markdown",
   "metadata": {},
   "source": [
    "### Getting the length of unique sentences"
   ]
  },
  {
   "cell_type": "code",
   "execution_count": 53,
   "metadata": {},
   "outputs": [
    {
     "name": "stdout",
     "output_type": "stream",
     "text": [
      "2660\n",
      "2788\n"
     ]
    }
   ],
   "source": [
    "unique_eng_sentences = set(english)\n",
    "unique_hin_sentences = set(hindi)\n",
    "\n",
    "print(len(unique_eng_sentences))\n",
    "print(len(unique_hin_sentences))"
   ]
  },
  {
   "cell_type": "markdown",
   "metadata": {},
   "source": [
    "### Creating the dictionary"
   ]
  },
  {
   "cell_type": "code",
   "execution_count": 54,
   "metadata": {},
   "outputs": [
    {
     "name": "stdout",
     "output_type": "stream",
     "text": [
      "unique english words : 3307\n",
      "unique hindi words: 3156\n",
      "\n",
      "english dict:\n",
      " [('shot?', 4), ('unites', 5), ('watching', 1069), ('caught', 6), ('books', 7), ('daily', 8), ('program', 9), ('buy', 10), ('8', 11), ('slept', 12)]\n",
      "\n",
      "reverse english dict:\n",
      " [(1, '<sos>'), (2, '<eos>'), (3, '<PAD>'), (4, 'shot?'), (5, 'unites'), (6, 'caught'), (7, 'books'), (8, 'daily'), (9, 'program'), (10, 'buy')]\n",
      "\n",
      "hindi dict:\n",
      " [('पकाया', 4), ('अठारह', 1547), ('आकर', 6), ('लाती', 2100), ('\"अभी', 517), ('स्वेटर', 7), ('दीवालिया', 8), ('देतीं', 9), ('माँगता', 10), ('ताऊजी', 11)]\n",
      "\n",
      "reverse hindi dict:\n",
      " [(1, '<sos>'), (2, '<eos>'), (3, '<PAD>'), (4, 'पकाया'), (5, 'खाना'), (6, 'आकर'), (7, 'स्वेटर'), (8, 'दीवालिया'), (9, 'देतीं'), (10, 'माँगता')]\n"
     ]
    }
   ],
   "source": [
    "eng_words = []\n",
    "hin_words = []\n",
    "\n",
    "for sent in english:\n",
    "    sentence = sent.split(' ')\n",
    "    eng_words.extend(sentence)\n",
    "\n",
    "unq_eng_words = set(eng_words)\n",
    "print('unique english words :', len(unq_eng_words))\n",
    "\n",
    "for sent in hindi:\n",
    "    sentence = sent.split(' ')\n",
    "    hin_words.extend(sentence)\n",
    "\n",
    "unq_hin_words = set(hin_words)\n",
    "print('unique hindi words:', len(unq_hin_words))\n",
    "\n",
    "eng_dict = {'<sos>':1, '<eos>':2, '<PAD>':3}\n",
    "\n",
    "for wrd in unq_eng_words:\n",
    "    eng_dict[wrd] = len(eng_dict) + 1\n",
    "rev_eng_dict = dict(zip(eng_dict.values(), eng_dict.keys()))\n",
    "\n",
    "print('\\nenglish dict:\\n', list(eng_dict.items())[0:10])\n",
    "print('\\nreverse english dict:\\n', list(rev_eng_dict.items())[0:10])\n",
    "\n",
    "hin_dict = {'<sos>':1, '<eos>':2, '<PAD>':3}\n",
    "\n",
    "for wrd in unq_hin_words:\n",
    "    hin_dict[wrd] = len(hin_dict) + 1\n",
    "    \n",
    "rev_hin_dict = dict(zip(hin_dict.values(), hin_dict.keys()))\n",
    "\n",
    "print('\\nhindi dict:\\n', list(hin_dict.items())[0:10])\n",
    "print('\\nreverse hindi dict:\\n', list(rev_hin_dict.items())[0:10])\n",
    "\n",
    "eng_vocab_size = len(eng_dict) + 1\n",
    "hin_vocab_size = len(hin_dict) + 1"
   ]
  },
  {
   "cell_type": "markdown",
   "metadata": {},
   "source": [
    "### Creating train and test set"
   ]
  },
  {
   "cell_type": "code",
   "execution_count": 55,
   "metadata": {},
   "outputs": [
    {
     "name": "stdout",
     "output_type": "stream",
     "text": [
      "length of english train: 2817\n",
      "length of hindi train: 2817\n",
      "length of english test: 50\n",
      "length of hindi test: 50\n",
      "\n",
      "eng: the king abused his power.\n",
      "hin: राजा ने अपनी ताकत का दुरुपयोग किया।\n",
      "\n",
      "eng: only a few people listened to him.\n",
      "hin: उसकी बात कुछ ही लोगों ने सुनी।\n",
      "\n",
      "eng: i want to see the manager.\n",
      "hin: मैं मैनेजर से मिलना चाह्ता हूँ।\n",
      "\n",
      "eng: when does it begin?\n",
      "hin: शुरू कब होता है?\n",
      "\n",
      "eng: he likes playing soccer.\n",
      "hin: उसको फ़ुटबॉल खेलना अच्छा लगता है।\n",
      "\n",
      "eng: my father told me not to read books in bed.\n",
      "hin: मेरे पिता ने मुझसे बिस्तर में किताबें पढ़ने से मना किया।\n",
      "\n",
      "eng: he had to go without food for days.\n",
      "hin: उसने दिनों तक खाना नहीं खाया।\n",
      "\n",
      "eng: opinions vary from person to person.\n",
      "hin: हर इनसान की सोच अलग होती है।\n",
      "\n",
      "eng: tom is my friend.\n",
      "hin: टॉम मेरा दोस्त है।\n",
      "\n",
      "eng: i will explain it to her.\n",
      "hin: मैं उसको यह बात समझाउँगा।\n"
     ]
    }
   ],
   "source": [
    "test_ind = [random.randint(0, len(english)) for i in range(50)]\n",
    "\n",
    "english_train = [english[i] for i in range(len(english)) if i not in test_ind]\n",
    "hindi_train = [hindi[i] for i in range(len(hindi)) if i not in test_ind]\n",
    "\n",
    "english_test = [english[i] for i in test_ind]\n",
    "hindi_test = [hindi[i] for i in test_ind]\n",
    "\n",
    "print('length of english train:', len(english_train))\n",
    "print('length of hindi train:', len(hindi_train))\n",
    "\n",
    "print('length of english test:', len(english_test))\n",
    "print('length of hindi test:', len(hindi_test))\n",
    "\n",
    "for i in range(10):\n",
    "    print('\\neng:', english_test[i])\n",
    "    print('hin:', hindi_test[i])"
   ]
  },
  {
   "cell_type": "markdown",
   "metadata": {},
   "source": [
    "### Max no. of words in a sentence"
   ]
  },
  {
   "cell_type": "code",
   "execution_count": 56,
   "metadata": {},
   "outputs": [
    {
     "name": "stdout",
     "output_type": "stream",
     "text": [
      "max length of english sentence: 22\n",
      "max length of hindi sentence: 25\n"
     ]
    }
   ],
   "source": [
    "en = []\n",
    "hi = []\n",
    "\n",
    "for sent in english:\n",
    "    sentence = sent.split(' ')\n",
    "    en.append(sentence)\n",
    "\n",
    "for sent in hindi:\n",
    "    sentence = sent.split(' ')\n",
    "    hi.append(sentence)\n",
    "    \n",
    "print('max length of english sentence:', len(max(en, key = len)))\n",
    "print('max length of hindi sentence:', len(max(hi, key = len)))\n"
   ]
  },
  {
   "cell_type": "markdown",
   "metadata": {},
   "source": [
    "### Converting from words to numbers"
   ]
  },
  {
   "cell_type": "code",
   "execution_count": 57,
   "metadata": {},
   "outputs": [],
   "source": [
    "# +2 for <sos> and <eos>\n",
    "eng_max_len = len(max(en, key = len)) + 2\n",
    "hin_max_len = len(max(hi, key = len)) + 2\n",
    "\n",
    "train_input = []\n",
    "train_output = []\n",
    "\n",
    "for eng_sent, hin_sent in zip(english_train, hindi_train):\n",
    "    \n",
    "    numeric_eng_sent = [eng_dict['<sos>']]\n",
    "    numeric_hin_sent = [hin_dict['<sos>']]\n",
    "    \n",
    "    \n",
    "    for wrds in eng_sent.split():\n",
    "        numeric_eng_sent.append(eng_dict[wrds])\n",
    "    \n",
    "    for wrds in hin_sent.split():\n",
    "        numeric_hin_sent.append(hin_dict[wrds])\n",
    "    \n",
    "    if len(numeric_eng_sent) < eng_max_len:\n",
    "        \n",
    "        [numeric_eng_sent.append(eng_dict['<PAD>']) \n",
    "                            for i in range(eng_max_len - len(numeric_eng_sent) - 1)]\n",
    "        \n",
    "        numeric_eng_sent.append(eng_dict['<eos>'])\n",
    "    \n",
    "    train_input.append(numeric_eng_sent)\n",
    "    \n",
    "    if len(numeric_hin_sent) < hin_max_len:\n",
    "        \n",
    "        [numeric_hin_sent.append(hin_dict['<PAD>']) \n",
    "                            for i in range(hin_max_len - len(numeric_hin_sent) - 1)]\n",
    "        numeric_hin_sent.append(hin_dict['<eos>'])\n",
    "    \n",
    "    train_output.append(numeric_hin_sent)\n",
    "\n",
    "\n",
    "test_input = []\n",
    "test_output = []\n",
    "\n",
    "for eng_sent, hin_sent in zip(english_test, hindi_test):\n",
    "    \n",
    "    numeric_eng_sent = [eng_dict['<sos>']]\n",
    "    numeric_hin_sent = [hin_dict['<sos>']]\n",
    "    \n",
    "    for wrds in eng_sent.split():\n",
    "        numeric_eng_sent.append(eng_dict[wrds])\n",
    "    \n",
    "    for wrds in hin_sent.split():\n",
    "        numeric_hin_sent.append(hin_dict[wrds])\n",
    "    \n",
    "    if len(numeric_eng_sent) < eng_max_len:\n",
    "        \n",
    "        [numeric_eng_sent.append(eng_dict['<PAD>']) \n",
    "                            for i in range(eng_max_len - len(numeric_eng_sent) - 1)]\n",
    "        \n",
    "        numeric_eng_sent.append(eng_dict['<eos>'])\n",
    "    \n",
    "    test_input.append(numeric_eng_sent)\n",
    "    \n",
    "    if len(numeric_hin_sent) < hin_max_len:\n",
    "        \n",
    "        [numeric_hin_sent.append(hin_dict['<PAD>']) \n",
    "                            for i in range(hin_max_len - len(numeric_hin_sent) - 1)]\n",
    "        numeric_hin_sent.append(hin_dict['<eos>'])\n",
    "    \n",
    "    test_output.append(numeric_hin_sent)\n",
    "\n"
   ]
  },
  {
   "cell_type": "markdown",
   "metadata": {},
   "source": [
    "### Checking if every thing is working fine"
   ]
  },
  {
   "cell_type": "code",
   "execution_count": 58,
   "metadata": {},
   "outputs": [
    {
     "name": "stdout",
     "output_type": "stream",
     "text": [
      "\n",
      "numeric and word sequence:\n",
      " [1, 81, 1098, 994, 1901, 648, 3, 3, 3, 3, 3, 3, 3, 3, 3, 3, 3, 3, 3, 3, 3, 3, 3, 2]\n",
      "['<sos>', 'the', 'king', 'abused', 'his', 'power.', '<PAD>', '<PAD>', '<PAD>', '<PAD>', '<PAD>', '<PAD>', '<PAD>', '<PAD>', '<PAD>', '<PAD>', '<PAD>', '<PAD>', '<PAD>', '<PAD>', '<PAD>', '<PAD>', '<PAD>', '<eos>']\n",
      "\n",
      "numeric and word sequence:\n",
      " [1, 3252, 1462, 1656, 668, 2517, 2680, 286, 3, 3, 3, 3, 3, 3, 3, 3, 3, 3, 3, 3, 3, 3, 3, 2]\n",
      "['<sos>', 'only', 'a', 'few', 'people', 'listened', 'to', 'him.', '<PAD>', '<PAD>', '<PAD>', '<PAD>', '<PAD>', '<PAD>', '<PAD>', '<PAD>', '<PAD>', '<PAD>', '<PAD>', '<PAD>', '<PAD>', '<PAD>', '<PAD>', '<eos>']\n",
      "\n",
      "numeric and word sequence:\n",
      " [1, 355, 3153, 2680, 263, 81, 670, 3, 3, 3, 3, 3, 3, 3, 3, 3, 3, 3, 3, 3, 3, 3, 3, 2]\n",
      "['<sos>', 'i', 'want', 'to', 'see', 'the', 'manager.', '<PAD>', '<PAD>', '<PAD>', '<PAD>', '<PAD>', '<PAD>', '<PAD>', '<PAD>', '<PAD>', '<PAD>', '<PAD>', '<PAD>', '<PAD>', '<PAD>', '<PAD>', '<PAD>', '<eos>']\n",
      "\n",
      "numeric and word sequence:\n",
      " [1, 1754, 1703, 484, 534, 3, 3, 3, 3, 3, 3, 3, 3, 3, 3, 3, 3, 3, 3, 3, 3, 3, 3, 2]\n",
      "['<sos>', 'when', 'does', 'it', 'begin?', '<PAD>', '<PAD>', '<PAD>', '<PAD>', '<PAD>', '<PAD>', '<PAD>', '<PAD>', '<PAD>', '<PAD>', '<PAD>', '<PAD>', '<PAD>', '<PAD>', '<PAD>', '<PAD>', '<PAD>', '<PAD>', '<eos>']\n",
      "\n",
      "numeric and word sequence:\n",
      " [1, 1812, 2120, 2959, 1244, 3, 3, 3, 3, 3, 3, 3, 3, 3, 3, 3, 3, 3, 3, 3, 3, 3, 3, 2]\n",
      "['<sos>', 'he', 'likes', 'playing', 'soccer.', '<PAD>', '<PAD>', '<PAD>', '<PAD>', '<PAD>', '<PAD>', '<PAD>', '<PAD>', '<PAD>', '<PAD>', '<PAD>', '<PAD>', '<PAD>', '<PAD>', '<PAD>', '<PAD>', '<PAD>', '<PAD>', '<eos>']\n",
      "\n",
      "numeric and word sequence:\n",
      " [1, 777, 2085, 951, 1067, 1912, 2680, 218, 7, 1580, 1555, 3, 3, 3, 3, 3, 3, 3, 3, 3, 3, 3, 3, 2]\n",
      "['<sos>', 'my', 'father', 'told', 'me', 'not', 'to', 'read', 'books', 'in', 'bed.', '<PAD>', '<PAD>', '<PAD>', '<PAD>', '<PAD>', '<PAD>', '<PAD>', '<PAD>', '<PAD>', '<PAD>', '<PAD>', '<PAD>', '<eos>']\n",
      "\n",
      "numeric and word sequence:\n",
      " [1, 1812, 521, 2680, 3233, 2785, 3061, 3108, 2420, 3, 3, 3, 3, 3, 3, 3, 3, 3, 3, 3, 3, 3, 3, 2]\n",
      "['<sos>', 'he', 'had', 'to', 'go', 'without', 'food', 'for', 'days.', '<PAD>', '<PAD>', '<PAD>', '<PAD>', '<PAD>', '<PAD>', '<PAD>', '<PAD>', '<PAD>', '<PAD>', '<PAD>', '<PAD>', '<PAD>', '<PAD>', '<eos>']\n",
      "\n",
      "numeric and word sequence:\n",
      " [1, 584, 2296, 2257, 1813, 2680, 3106, 3, 3, 3, 3, 3, 3, 3, 3, 3, 3, 3, 3, 3, 3, 3, 3, 2]\n",
      "['<sos>', 'opinions', 'vary', 'from', 'person', 'to', 'person.', '<PAD>', '<PAD>', '<PAD>', '<PAD>', '<PAD>', '<PAD>', '<PAD>', '<PAD>', '<PAD>', '<PAD>', '<PAD>', '<PAD>', '<PAD>', '<PAD>', '<PAD>', '<PAD>', '<eos>']\n",
      "\n",
      "numeric and word sequence:\n",
      " [1, 1687, 3280, 777, 510, 3, 3, 3, 3, 3, 3, 3, 3, 3, 3, 3, 3, 3, 3, 3, 3, 3, 3, 2]\n",
      "['<sos>', 'tom', 'is', 'my', 'friend.', '<PAD>', '<PAD>', '<PAD>', '<PAD>', '<PAD>', '<PAD>', '<PAD>', '<PAD>', '<PAD>', '<PAD>', '<PAD>', '<PAD>', '<PAD>', '<PAD>', '<PAD>', '<PAD>', '<PAD>', '<PAD>', '<eos>']\n",
      "\n",
      "numeric and word sequence:\n",
      " [1, 355, 270, 2318, 484, 2680, 3002, 3, 3, 3, 3, 3, 3, 3, 3, 3, 3, 3, 3, 3, 3, 3, 3, 2]\n",
      "['<sos>', 'i', 'will', 'explain', 'it', 'to', 'her.', '<PAD>', '<PAD>', '<PAD>', '<PAD>', '<PAD>', '<PAD>', '<PAD>', '<PAD>', '<PAD>', '<PAD>', '<PAD>', '<PAD>', '<PAD>', '<PAD>', '<PAD>', '<PAD>', '<eos>']\n"
     ]
    }
   ],
   "source": [
    "wrd_sent = []\n",
    "for i in range(10):\n",
    "    num_sent = test_input[i]\n",
    "    print('\\nnumeric and word sequence:\\n', num_sent)\n",
    "    for j in range(24):\n",
    "        wrd_sent.append(rev_eng_dict[num_sent[j]])\n",
    "        \n",
    "    print(wrd_sent)\n",
    "    \n",
    "    wrd_sent = []"
   ]
  },
  {
   "cell_type": "markdown",
   "metadata": {},
   "source": [
    "### Making train and test i/p and o/p numpy arrays"
   ]
  },
  {
   "cell_type": "code",
   "execution_count": 59,
   "metadata": {},
   "outputs": [],
   "source": [
    "train_input = np.array(train_input, dtype=np.int32)\n",
    "train_output = np.array(train_output, dtype=np.int32)\n",
    "\n",
    "test_input = np.array(test_input,dtype=np.int32)\n",
    "test_output = np.array(test_output,dtype=np.int32)"
   ]
  },
  {
   "cell_type": "markdown",
   "metadata": {},
   "source": [
    "### Word embeddings using skip-gram"
   ]
  },
  {
   "cell_type": "code",
   "execution_count": 60,
   "metadata": {},
   "outputs": [
    {
     "data": {
      "text/plain": [
       "[['got', 'it?'],\n",
       " ['it?', 'got'],\n",
       " [\"i'm\", 'ok.'],\n",
       " ['ok.', \"i'm\"],\n",
       " ['come', 'in.'],\n",
       " ['in.', 'come'],\n",
       " ['get', 'out!'],\n",
       " ['out!', 'get'],\n",
       " ['go', 'away!'],\n",
       " ['away!', 'go']]"
      ]
     },
     "execution_count": 60,
     "metadata": {},
     "output_type": "execute_result"
    }
   ],
   "source": [
    "batch_size = 64\n",
    "embedding_size = 128\n",
    "\n",
    "sentences = []\n",
    "window_size = 1\n",
    "data = []\n",
    "\n",
    "num_sampled = 20\n",
    "\n",
    "for sent in english:\n",
    "    sentence = sent.split(' ')\n",
    "    sentences.append(sentence)\n",
    "    \n",
    "\n",
    "\n",
    "for sent in sentences:\n",
    "    for ind, wrd in enumerate(sent):\n",
    "        for cont_wrd in sent[max(ind - window_size, 0) : min(ind + window_size, len(sent)) + 1]:\n",
    "            if wrd not in cont_wrd:\n",
    "                data.append([wrd, cont_wrd])\n",
    "                \n",
    "data[0:10]"
   ]
  },
  {
   "cell_type": "code",
   "execution_count": 61,
   "metadata": {},
   "outputs": [
    {
     "name": "stdout",
     "output_type": "stream",
     "text": [
      "data train: [343, 77, 37, 1412, 200, 119, 2388, 1255, 3233, 3034]\n",
      "data label: [77, 343, 1412, 37, 119, 200, 1255, 2388, 3034, 3233]\n"
     ]
    }
   ],
   "source": [
    "data_train = []\n",
    "data_label = []\n",
    "\n",
    "for inp in data:\n",
    "    \n",
    "    data_train.append(eng_dict[inp[0]])\n",
    "    data_label.append(eng_dict[inp[1]])\n",
    "\n",
    "print('data train: {}' .format(data_train[0:10]))\n",
    "print('data label: {}' .format(data_label[0:10]))"
   ]
  },
  {
   "cell_type": "markdown",
   "metadata": {},
   "source": [
    "### Define i/p and o/p"
   ]
  },
  {
   "cell_type": "code",
   "execution_count": 62,
   "metadata": {},
   "outputs": [],
   "source": [
    "tf.reset_default_graph()\n",
    "train_dataset = tf.placeholder(tf.int32, shape = [batch_size])\n",
    "train_labels = tf.placeholder(tf.int32, shape = [batch_size, 1])"
   ]
  },
  {
   "cell_type": "markdown",
   "metadata": {},
   "source": [
    "### Model Parameters and Other Variables"
   ]
  },
  {
   "cell_type": "code",
   "execution_count": 63,
   "metadata": {},
   "outputs": [],
   "source": [
    "embeddings = tf.Variable(tf.random_uniform([eng_vocab_size, embedding_size], -1.0, 1.0))\n",
    "\n",
    "softmax_weights = tf.Variable(tf.truncated_normal([eng_vocab_size, embedding_size],\n",
    "                                stddev=0.5 / math.sqrt(embedding_size))\n",
    "                                )\n",
    "softmax_biases = tf.Variable(tf.random_uniform([eng_vocab_size],0.0,0.01))\n"
   ]
  },
  {
   "cell_type": "markdown",
   "metadata": {},
   "source": [
    "### Computations"
   ]
  },
  {
   "cell_type": "code",
   "execution_count": 64,
   "metadata": {},
   "outputs": [],
   "source": [
    "embed = tf.nn.embedding_lookup(embeddings, train_dataset)\n",
    "\n",
    "loss = tf.reduce_mean(tf.nn.sampled_softmax_loss(\n",
    "                    weights=softmax_weights, biases=softmax_biases, inputs=embed,\n",
    "                    labels=train_labels, num_sampled=num_sampled, num_classes=eng_vocab_size)\n",
    "                    )"
   ]
  },
  {
   "cell_type": "markdown",
   "metadata": {},
   "source": [
    "### Optimizer"
   ]
  },
  {
   "cell_type": "code",
   "execution_count": 65,
   "metadata": {},
   "outputs": [],
   "source": [
    "optimizer = tf.train.AdagradOptimizer(1.0).minimize(loss)"
   ]
  },
  {
   "cell_type": "markdown",
   "metadata": {},
   "source": [
    "### Running the skip gram algorithm"
   ]
  },
  {
   "cell_type": "code",
   "execution_count": 66,
   "metadata": {},
   "outputs": [
    {
     "name": "stdout",
     "output_type": "stream",
     "text": [
      "Average loss at step 200: 19104.206836\n",
      "Average loss at step 400: 15129.596671\n",
      "Average loss at step 600: 14458.384918\n",
      "Average loss at step 800: 14067.148496\n",
      "Average loss at step 1000: 13909.639348\n",
      "Average loss at step 1200: 13686.131503\n",
      "Average loss at step 1400: 13574.306089\n",
      "Average loss at step 1600: 13446.376667\n",
      "Average loss at step 1800: 13468.504927\n",
      "Average loss at step 2000: 13313.956548\n",
      "Average loss at step 2200: 13251.755186\n",
      "Average loss at step 2400: 13217.137033\n",
      "Average loss at step 2600: 13138.801445\n",
      "Average loss at step 2800: 13112.302946\n",
      "Average loss at step 3000: 13059.683472\n",
      "Average loss at step 3200: 13027.275180\n",
      "Average loss at step 3400: 13053.489153\n",
      "Average loss at step 3600: 12961.175036\n",
      "Average loss at step 3800: 12936.898778\n",
      "Average loss at step 4000: 12924.095328\n",
      "Average loss at step 4200: 12890.947228\n",
      "Average loss at step 4400: 12848.428462\n",
      "Average loss at step 4600: 12803.918754\n",
      "Average loss at step 4800: 12828.399154\n",
      "Average loss at step 5000: 12805.359848\n",
      "Average loss at step 5200: 12805.736414\n",
      "Average loss at step 5400: 12733.891304\n",
      "Average loss at step 5600: 12719.431496\n",
      "Average loss at step 5800: 12756.972758\n",
      "Average loss at step 6000: 12724.048501\n",
      "Average loss at step 6200: 12670.923727\n",
      "Average loss at step 6400: 12696.152522\n",
      "Average loss at step 6600: 12609.012768\n",
      "Average loss at step 6800: 12684.366012\n",
      "Average loss at step 7000: 12668.751932\n",
      "Average loss at step 7200: 12632.475127\n",
      "Average loss at step 7400: 12599.253457\n",
      "Average loss at step 7600: 12590.177615\n",
      "Average loss at step 7800: 12575.437345\n",
      "Average loss at step 8000: 12557.966066\n",
      "Average loss at step 8200: 12589.408246\n",
      "Average loss at step 8400: 12586.655290\n",
      "Average loss at step 8600: 12591.483710\n",
      "Average loss at step 8800: 12586.068930\n",
      "Average loss at step 9000: 12575.731692\n",
      "Average loss at step 9200: 12547.478695\n",
      "Average loss at step 9400: 12533.167073\n",
      "Average loss at step 9600: 12483.084614\n",
      "Average loss at step 9800: 12538.994264\n",
      "Average loss at step 10000: 12496.827760\n"
     ]
    }
   ],
   "source": [
    "num_steps = 10000\n",
    "skip_losses = []\n",
    "\n",
    "with tf.Session() as session:\n",
    "    tf.global_variables_initializer().run()\n",
    "    average_loss = 0\n",
    "    \n",
    "    for step in range(num_steps):\n",
    "        for batch_idx in range(len(data_train) // batch_size):\n",
    "            \n",
    "            batch_data = data_train[batch_size*batch_idx : batch_size*batch_idx + batch_size]\n",
    "            batch_data = np.asarray(batch_data)\n",
    "            \n",
    "            batch_label = data_label[batch_size*batch_idx : batch_size*batch_idx + batch_size]\n",
    "            batch_label = np.asarray(batch_label)\n",
    "            batch_label = batch_label.reshape((batch_size, 1))\n",
    "            \n",
    "            \n",
    "            feed_dict = {train_dataset: batch_data, train_labels: batch_label}\n",
    "            _, l = session.run([optimizer, loss], feed_dict = feed_dict)\n",
    "            \n",
    "            average_loss += l\n",
    "            \n",
    "            if (step + 1) % 200 == 0:\n",
    "                if step > 0:\n",
    "                    average_loss / 2000\n",
    "                skip_losses.append(average_loss)\n",
    "        if (step + 1) % 200 == 0:        \n",
    "            print('Average loss at step %d: %f' % (step+1, average_loss))\n",
    "            average_loss = 0\n",
    "            \n",
    "    embeddings_eng = embeddings.eval()\n",
    "\n",
    "np.save('eng-embeddings.npy', embeddings_eng)"
   ]
  },
  {
   "cell_type": "markdown",
   "metadata": {},
   "source": [
    "### Word embeddings Hindi"
   ]
  },
  {
   "cell_type": "code",
   "execution_count": 74,
   "metadata": {},
   "outputs": [
    {
     "data": {
      "text/plain": [
       "[['समझे', 'कि'],\n",
       " ['कि', 'समझे'],\n",
       " ['कि', 'नहीं?'],\n",
       " ['नहीं?', 'कि'],\n",
       " ['मैं', 'ठीक'],\n",
       " ['ठीक', 'मैं'],\n",
       " ['ठीक', 'हूँ।'],\n",
       " ['हूँ।', 'ठीक'],\n",
       " ['बहुत', 'बढ़िया!'],\n",
       " ['बढ़िया!', 'बहुत']]"
      ]
     },
     "execution_count": 74,
     "metadata": {},
     "output_type": "execute_result"
    }
   ],
   "source": [
    "batch_size = 64\n",
    "embedding_size = 128\n",
    "\n",
    "sentences = []\n",
    "window_size = 1\n",
    "data_hindi = []\n",
    "\n",
    "num_sampled = 20\n",
    "\n",
    "for sent in hindi:\n",
    "    sentence = sent.split(' ')\n",
    "    sentences.append(sentence)\n",
    "    \n",
    "\n",
    "\n",
    "for sent in sentences:\n",
    "    for ind, wrd in enumerate(sent):\n",
    "        for cont_wrd in sent[max(ind - window_size, 0) : min(ind + window_size, len(sent)) + 1]:\n",
    "            if wrd not in cont_wrd:\n",
    "                data_hindi.append([wrd, cont_wrd])\n",
    "                \n",
    "data_hindi[0:10]"
   ]
  },
  {
   "cell_type": "code",
   "execution_count": 75,
   "metadata": {},
   "outputs": [
    {
     "name": "stdout",
     "output_type": "stream",
     "text": [
      "data train: [2471, 2997, 2997, 1348, 2330, 2350, 2350, 1441, 1625, 1172]\n",
      "data label: [2997, 2471, 1348, 2997, 2350, 2330, 1441, 2350, 1172, 1625]\n"
     ]
    }
   ],
   "source": [
    "data_hindi_train = []\n",
    "data_hindi_label = []\n",
    "\n",
    "for inp in data_hindi:\n",
    "    \n",
    "    data_hindi_train.append(hin_dict[inp[0]])\n",
    "    data_hindi_label.append(hin_dict[inp[1]])\n",
    "\n",
    "print('data train: {}' .format(data_hindi_train[0:10]))\n",
    "print('data label: {}' .format(data_hindi_label[0:10]))"
   ]
  },
  {
   "cell_type": "markdown",
   "metadata": {},
   "source": [
    "### Define i/p and o/p"
   ]
  },
  {
   "cell_type": "code",
   "execution_count": 76,
   "metadata": {},
   "outputs": [],
   "source": [
    "tf.reset_default_graph()\n",
    "train_hindi_dataset = tf.placeholder(tf.int32, shape = [batch_size])\n",
    "train_hindi_labels = tf.placeholder(tf.int32, shape = [batch_size, 1])"
   ]
  },
  {
   "cell_type": "markdown",
   "metadata": {},
   "source": [
    "### Model parameters and other variables"
   ]
  },
  {
   "cell_type": "code",
   "execution_count": 77,
   "metadata": {},
   "outputs": [],
   "source": [
    "embeddings_hindi = tf.Variable(tf.random_uniform([hin_vocab_size, embedding_size], -1.0, 1.0))\n",
    "\n",
    "softmax_weights_hindi = tf.Variable(tf.truncated_normal([hin_vocab_size, embedding_size],\n",
    "                                stddev=0.5 / math.sqrt(embedding_size))\n",
    "                                )\n",
    "softmax_biases_hindi = tf.Variable(tf.random_uniform([hin_vocab_size],0.0,0.01))\n"
   ]
  },
  {
   "cell_type": "markdown",
   "metadata": {},
   "source": [
    "### Computations"
   ]
  },
  {
   "cell_type": "code",
   "execution_count": 78,
   "metadata": {},
   "outputs": [],
   "source": [
    "embed_hindi = tf.nn.embedding_lookup(embeddings_hindi, train_hindi_dataset)\n",
    "\n",
    "loss_hindi = tf.reduce_mean(tf.nn.sampled_softmax_loss(\n",
    "                    weights=softmax_weights_hindi, biases=softmax_biases_hindi, inputs=embed_hindi,\n",
    "                    labels=train_hindi_labels, num_sampled=num_sampled, num_classes=hin_vocab_size)\n",
    "                    )"
   ]
  },
  {
   "cell_type": "markdown",
   "metadata": {},
   "source": [
    "### Optimizer"
   ]
  },
  {
   "cell_type": "code",
   "execution_count": 79,
   "metadata": {},
   "outputs": [],
   "source": [
    "optimizer = tf.train.AdagradOptimizer(1.0).minimize(loss_hindi)"
   ]
  },
  {
   "cell_type": "markdown",
   "metadata": {},
   "source": [
    "### Running the skip gram loss algorithm for hindi"
   ]
  },
  {
   "cell_type": "code",
   "execution_count": 80,
   "metadata": {},
   "outputs": [
    {
     "name": "stdout",
     "output_type": "stream",
     "text": [
      "Average loss at step 200: 20764.698177\n",
      "Average loss at step 400: 16067.201322\n",
      "Average loss at step 600: 15385.223276\n",
      "Average loss at step 800: 14916.733274\n",
      "Average loss at step 1000: 14647.311958\n",
      "Average loss at step 1200: 14481.542229\n",
      "Average loss at step 1400: 14240.352908\n",
      "Average loss at step 1600: 14187.222962\n",
      "Average loss at step 1800: 14067.767327\n",
      "Average loss at step 2000: 13935.622694\n",
      "Average loss at step 2200: 13844.899747\n",
      "Average loss at step 2400: 13751.748264\n",
      "Average loss at step 2600: 13774.257029\n",
      "Average loss at step 2800: 13712.555826\n",
      "Average loss at step 3000: 13670.060449\n",
      "Average loss at step 3200: 13636.004656\n",
      "Average loss at step 3400: 13600.316429\n",
      "Average loss at step 3600: 13515.999555\n",
      "Average loss at step 3800: 13510.712746\n",
      "Average loss at step 4000: 13386.726994\n",
      "Average loss at step 4200: 13402.215762\n",
      "Average loss at step 4400: 13386.307040\n",
      "Average loss at step 4600: 13364.119302\n",
      "Average loss at step 4800: 13314.938027\n",
      "Average loss at step 5000: 13285.671227\n",
      "Average loss at step 5200: 13271.310202\n",
      "Average loss at step 5400: 13280.917744\n",
      "Average loss at step 5600: 13224.656276\n",
      "Average loss at step 5800: 13265.799048\n",
      "Average loss at step 6000: 13213.726751\n",
      "Average loss at step 6200: 13187.977457\n",
      "Average loss at step 6400: 13179.640152\n",
      "Average loss at step 6600: 13189.751998\n",
      "Average loss at step 6800: 13157.750684\n",
      "Average loss at step 7000: 13097.828109\n",
      "Average loss at step 7200: 13149.077191\n",
      "Average loss at step 7400: 13132.741414\n",
      "Average loss at step 7600: 13094.320327\n",
      "Average loss at step 7800: 13036.229586\n",
      "Average loss at step 8000: 13067.256855\n",
      "Average loss at step 8200: 13058.352293\n",
      "Average loss at step 8400: 13066.105766\n",
      "Average loss at step 8600: 12991.641599\n",
      "Average loss at step 8800: 12939.327837\n",
      "Average loss at step 9000: 12979.554741\n",
      "Average loss at step 9200: 12988.725090\n",
      "Average loss at step 9400: 12991.075826\n",
      "Average loss at step 9600: 13042.366461\n",
      "Average loss at step 9800: 12965.687584\n",
      "Average loss at step 10000: 12936.711691\n"
     ]
    }
   ],
   "source": [
    "num_steps = 10000\n",
    "skip_losses_hindi = []\n",
    "\n",
    "with tf.Session() as session:\n",
    "    tf.global_variables_initializer().run()\n",
    "    average_loss_hindi = 0\n",
    "    \n",
    "    for step in range(num_steps):\n",
    "        for batch_idx in range(len(data_hindi_train) // batch_size):\n",
    "            \n",
    "            batch_data_hindi = data_hindi_train[batch_size*batch_idx : batch_size*batch_idx + batch_size]\n",
    "            batch_data_hindi = np.asarray(batch_data_hindi)\n",
    "            \n",
    "            batch_label_hindi = data_hindi_label[batch_size*batch_idx : batch_size*batch_idx + batch_size]\n",
    "            batch_label_hindi = np.asarray(batch_label_hindi)\n",
    "            batch_label_hindi = batch_label_hindi.reshape((batch_size, 1))\n",
    "            \n",
    "            \n",
    "            feed_dict_hindi = {train_hindi_dataset: batch_data_hindi, train_hindi_labels: batch_label_hindi}\n",
    "            _, l_hindi = session.run([optimizer, loss_hindi], feed_dict = feed_dict_hindi)\n",
    "            \n",
    "            average_loss_hindi += l_hindi\n",
    "            \n",
    "            if (step + 1) % 200 == 0:\n",
    "                if step > 0:\n",
    "                    average_loss_hindi / 2000\n",
    "                skip_losses_hindi.append(average_loss_hindi)\n",
    "        if (step + 1) % 200 == 0:        \n",
    "            print('Average loss at step %d: %f' % (step+1, average_loss_hindi))\n",
    "            average_loss_hindi = 0\n",
    "            \n",
    "        embeddings_hin = embeddings_hindi.eval()\n",
    "\n",
    "np.save('hin-embeddings.npy', embeddings_hin)"
   ]
  },
  {
   "cell_type": "markdown",
   "metadata": {},
   "source": [
    "### NMT using TF seq2seq library"
   ]
  },
  {
   "cell_type": "markdown",
   "metadata": {},
   "source": [
    "### Data Generations for MT"
   ]
  },
  {
   "cell_type": "code",
   "execution_count": 88,
   "metadata": {},
   "outputs": [
    {
     "name": "stdout",
     "output_type": "stream",
     "text": [
      "Source data\n",
      "['wow!', 'help!', 'jump.', 'jump.', 'jump.']\n",
      "['<PAD>', '<PAD>', '<PAD>', '<PAD>', '<PAD>']\n",
      "['<PAD>', '<PAD>', '<PAD>', '<PAD>', '<PAD>']\n",
      "['<PAD>', '<PAD>', '<PAD>', '<PAD>', '<PAD>']\n",
      "['<PAD>', '<PAD>', '<PAD>', '<PAD>', '<PAD>']\n",
      "['<PAD>', '<PAD>', '<PAD>', '<PAD>', '<PAD>']\n",
      "['<PAD>', '<PAD>', '<PAD>', '<PAD>', '<PAD>']\n",
      "['<PAD>', '<PAD>', '<PAD>', '<PAD>', '<PAD>']\n",
      "['<PAD>', '<PAD>', '<PAD>', '<PAD>', '<PAD>']\n",
      "['<PAD>', '<PAD>', '<PAD>', '<PAD>', '<PAD>']\n",
      "['<PAD>', '<PAD>', '<PAD>', '<PAD>', '<PAD>']\n",
      "['<PAD>', '<PAD>', '<PAD>', '<PAD>', '<PAD>']\n",
      "['<PAD>', '<PAD>', '<PAD>', '<PAD>', '<PAD>']\n",
      "['<PAD>', '<PAD>', '<PAD>', '<PAD>', '<PAD>']\n",
      "['<PAD>', '<PAD>', '<PAD>', '<PAD>', '<PAD>']\n",
      "['<PAD>', '<PAD>', '<PAD>', '<PAD>', '<PAD>']\n",
      "['<PAD>', '<PAD>', '<PAD>', '<PAD>', '<PAD>']\n",
      "['<PAD>', '<PAD>', '<PAD>', '<PAD>', '<PAD>']\n",
      "['<PAD>', '<PAD>', '<PAD>', '<PAD>', '<PAD>']\n",
      "['<PAD>', '<PAD>', '<PAD>', '<PAD>', '<PAD>']\n",
      "\n",
      "Target data batch\n",
      "['वाह!', 'उछलो.', 'कूदो.', 'छलांग.', 'नमस्ते।']\n",
      "['<PAD>', '<PAD>', '<PAD>', '<PAD>', '<PAD>']\n",
      "['<PAD>', '<PAD>', '<PAD>', '<PAD>', '<PAD>']\n",
      "['<PAD>', '<PAD>', '<PAD>', '<PAD>', '<PAD>']\n",
      "['<PAD>', '<PAD>', '<PAD>', '<PAD>', '<PAD>']\n",
      "['<PAD>', '<PAD>', '<PAD>', '<PAD>', '<PAD>']\n",
      "['<PAD>', '<PAD>', '<PAD>', '<PAD>', '<PAD>']\n",
      "['<PAD>', '<PAD>', '<PAD>', '<PAD>', '<PAD>']\n",
      "['<PAD>', '<PAD>', '<PAD>', '<PAD>', '<PAD>']\n",
      "['<PAD>', '<PAD>', '<PAD>', '<PAD>', '<PAD>']\n",
      "['<PAD>', '<PAD>', '<PAD>', '<PAD>', '<PAD>']\n",
      "['<PAD>', '<PAD>', '<PAD>', '<PAD>', '<PAD>']\n",
      "['<PAD>', '<PAD>', '<PAD>', '<PAD>', '<PAD>']\n",
      "['<PAD>', '<PAD>', '<PAD>', '<PAD>', '<PAD>']\n",
      "['<PAD>', '<PAD>', '<PAD>', '<PAD>', '<PAD>']\n",
      "['<PAD>', '<PAD>', '<PAD>', '<PAD>', '<PAD>']\n",
      "['<PAD>', '<PAD>', '<PAD>', '<PAD>', '<PAD>']\n",
      "['<PAD>', '<PAD>', '<PAD>', '<PAD>', '<PAD>']\n",
      "['<PAD>', '<PAD>', '<PAD>', '<PAD>', '<PAD>']\n",
      "['<PAD>', '<PAD>', '<PAD>', '<PAD>', '<PAD>']\n",
      "['<PAD>', '<PAD>', '<PAD>', '<PAD>', '<PAD>']\n",
      "['<PAD>', '<PAD>', '<PAD>', '<PAD>', '<PAD>']\n",
      "['<PAD>', '<PAD>', '<PAD>', '<PAD>', '<PAD>']\n",
      "['<PAD>', '<PAD>', '<PAD>', '<PAD>', '<PAD>']\n",
      "['<PAD>', '<PAD>', '<PAD>', '<PAD>', '<PAD>']\n",
      "['<eos>', '<eos>', '<eos>', '<eos>', '<eos>']\n",
      "['वाह!', 'उछलो.', 'कूदो.', 'छलांग.', 'नमस्ते।']\n",
      "['<PAD>', '<PAD>', '<PAD>', '<PAD>', '<PAD>']\n",
      "['<PAD>', '<PAD>', '<PAD>', '<PAD>', '<PAD>']\n",
      "['<PAD>', '<PAD>', '<PAD>', '<PAD>', '<PAD>']\n"
     ]
    }
   ],
   "source": [
    "emb_mat = np.load('eng-embeddings.npy')\n",
    "input_size = emb_mat.shape[1]\n",
    "\n",
    "class DataGeneratorMT(object):\n",
    "    \n",
    "    def __init__(self,batch_size,num_unroll,is_source, is_train):\n",
    "        global input_size\n",
    "        self._batch_size = batch_size\n",
    "        self._num_unroll = num_unroll\n",
    "        self._cursor = [0 for offset in range(self._batch_size)]\n",
    "        \n",
    "        \n",
    "        self._sent_ids = None\n",
    "        \n",
    "        self._is_source = is_source\n",
    "        self._is_train = is_train\n",
    "                \n",
    "    def next_batch(self, sent_ids):\n",
    "        \n",
    "        \n",
    "        if self._is_source:\n",
    "            max_sent_length = eng_max_len\n",
    "        else:\n",
    "            max_sent_length = hin_max_len\n",
    "            \n",
    "        batch_data = np.zeros((self._batch_size),dtype=np.float32)\n",
    "        batch_labels = np.zeros((self._batch_size),dtype=np.float32)\n",
    "        \n",
    "        \n",
    "        for b in range(self._batch_size):\n",
    "            \n",
    "            sent_id = sent_ids[b]\n",
    "            \n",
    "            \n",
    "            if self._is_source:\n",
    "                \n",
    "                if self._is_train:\n",
    "                    sent_text = train_input[sent_id]\n",
    "                else:\n",
    "                    sent_text = test_input[sent_id]\n",
    "                             \n",
    "                batch_data[b] = sent_text[self._cursor[b]]\n",
    "                batch_labels[b] = sent_text[self._cursor[b]+1]\n",
    "            \n",
    "            else:\n",
    "                \n",
    "                if self._is_train:\n",
    "                    sent_text = train_output[sent_id]\n",
    "                else:\n",
    "                    sent_text = test_output[sent_id]\n",
    "                \n",
    "                \n",
    "                if sent_text[self._cursor[b]]!=hin_dict['<sos>']:\n",
    "                    batch_data[b] = sent_text[self._cursor[b]]\n",
    "                else:\n",
    "                    batch_data[b] = sent_text[self._cursor[b]]\n",
    "                \n",
    "                batch_labels[b] = sent_text[self._cursor[b]+1]\n",
    "            \n",
    "            self._cursor[b] = (self._cursor[b]+1)%(max_sent_length-1)\n",
    "             \n",
    "        return batch_data,batch_labels\n",
    "        \n",
    "    def unroll_batches(self,sent_ids):\n",
    "        \n",
    "        \n",
    "        if sent_ids is not None:\n",
    "            \n",
    "            self._sent_ids = sent_ids\n",
    "            \n",
    "            self._cursor = [0 for _ in range(self._batch_size)]\n",
    "                \n",
    "        unroll_data,unroll_labels = [],[]\n",
    "        \n",
    "        for ui in range(self._num_unroll):\n",
    "            \n",
    "            if self._is_source:\n",
    "                data, labels = self.next_batch(self._sent_ids)\n",
    "            else:\n",
    "                data, labels = self.next_batch(self._sent_ids)\n",
    "                    \n",
    "            unroll_data.append(data)\n",
    "            unroll_labels.append(labels)\n",
    "        \n",
    "        return unroll_data, unroll_labels, self._sent_ids\n",
    "    \n",
    "    def reset_indices(self):\n",
    "        self._cursor = [0 for offset in range(self._batch_size)]\n",
    "        \n",
    "dg = DataGeneratorMT(batch_size=5,num_unroll=20,is_source=True, is_train=True)\n",
    "u_data, u_labels, _ = dg.unroll_batches([0,1,2,3,4])\n",
    "\n",
    "print('Source data')\n",
    "for _, lbl in zip(u_data,u_labels):\n",
    "    print([rev_eng_dict[w] for w in lbl.tolist()])\n",
    "\n",
    "dg = DataGeneratorMT(batch_size=5,num_unroll=30,is_source=False, is_train=True)\n",
    "u_data, u_labels, _ = dg.unroll_batches([0,2,3,4,5])\n",
    "print('\\nTarget data batch')\n",
    "for d_i,(_, lbl) in enumerate(zip(u_data,u_labels)):\n",
    "    print([rev_hin_dict[w] for w in lbl.tolist()])"
   ]
  },
  {
   "cell_type": "markdown",
   "metadata": {},
   "source": [
    "### Hyperparameters"
   ]
  },
  {
   "cell_type": "code",
   "execution_count": 89,
   "metadata": {},
   "outputs": [],
   "source": [
    "vocab_size = 3158\n",
    "num_units = 128\n",
    "batch_size = 4\n",
    "source_sequence_length = 24\n",
    "target_sequence_length = 27\n",
    "learning_rate = 0.01"
   ]
  },
  {
   "cell_type": "markdown",
   "metadata": {},
   "source": [
    "### Defining the TensorFlow inputs and outputs"
   ]
  },
  {
   "cell_type": "code",
   "execution_count": 90,
   "metadata": {},
   "outputs": [],
   "source": [
    "tf.reset_default_graph()\n",
    "\n",
    "enc_train_inputs = []\n",
    "dec_train_inputs = []\n",
    "dec_train_labels = []\n",
    "\n",
    "encoder_emb_layer = tf.convert_to_tensor(np.load('eng-embeddings.npy'))\n",
    "decoder_emb_layer = tf.convert_to_tensor(np.load('hin-embeddings.npy'))\n",
    "\n",
    "for ui in range(source_sequence_length):\n",
    "    enc_train_inputs.append(tf.placeholder(tf.int32, shape=[batch_size],name='train_inputs_%d'%ui))\n",
    "\n",
    "for ui in range(target_sequence_length):\n",
    "    dec_train_inputs.append(tf.placeholder(tf.int32, shape=[batch_size],name='train_inputs_%d'%ui))\n",
    "    dec_train_labels.append(tf.placeholder(tf.int32, shape=[batch_size],name='train_outputs_%d'%ui))\n",
    "    \n",
    "encoder_emb_inp = [tf.nn.embedding_lookup(encoder_emb_layer, src) for src in enc_train_inputs]\n",
    "encoder_emb_inp = tf.stack(encoder_emb_inp)\n",
    "\n",
    "decoder_emb_inp = [tf.nn.embedding_lookup(decoder_emb_layer, src) for src in dec_train_inputs]\n",
    "decoder_emb_inp = tf.stack(decoder_emb_inp)"
   ]
  },
  {
   "cell_type": "markdown",
   "metadata": {},
   "source": [
    "### Encoder"
   ]
  },
  {
   "cell_type": "code",
   "execution_count": 91,
   "metadata": {},
   "outputs": [],
   "source": [
    "encoder_cell = tf.nn.rnn_cell.BasicLSTMCell(num_units)\n",
    "\n",
    "initial_state = encoder_cell.zero_state(batch_size, dtype=tf.float32)\n",
    "\n",
    "encoder_outputs, encoder_state = tf.nn.dynamic_rnn(\n",
    "    encoder_cell, encoder_emb_inp, initial_state=initial_state,\n",
    "    sequence_length=[source_sequence_length for _ in range(batch_size)], \n",
    "    time_major=True, swap_memory=True)"
   ]
  },
  {
   "cell_type": "markdown",
   "metadata": {},
   "source": [
    "### Decoder"
   ]
  },
  {
   "cell_type": "code",
   "execution_count": 96,
   "metadata": {},
   "outputs": [],
   "source": [
    "decoder_cell = tf.nn.rnn_cell.BasicLSTMCell(num_units)\n",
    "\n",
    "projection_layer = Dense(units=vocab_size, use_bias=True)\n",
    "\n",
    "helper = tf.contrib.seq2seq.TrainingHelper(\n",
    "    decoder_emb_inp, [target_sequence_length for _ in range(batch_size)], time_major=True)\n",
    "\n",
    "decoder = tf.contrib.seq2seq.BasicDecoder(\n",
    "        decoder_cell, helper, encoder_state,\n",
    "        output_layer=projection_layer)\n",
    "\n",
    "outputs, _, _ = tf.contrib.seq2seq.dynamic_decode(\n",
    "                decoder, output_time_major=True,\n",
    "                swap_memory=True\n",
    "                )\n",
    "\n",
    "logits = outputs.rnn_output\n",
    "train_prediction = outputs.sample_id\n",
    "\n",
    "# Loss computation\n",
    "# To do: Mask the <PAD> \n",
    "crossent = tf.nn.sparse_softmax_cross_entropy_with_logits(\n",
    "    labels=dec_train_labels, logits=logits)\n",
    "loss = tf.reduce_mean(crossent)"
   ]
  },
  {
   "cell_type": "markdown",
   "metadata": {},
   "source": [
    "### Optimizer"
   ]
  },
  {
   "cell_type": "code",
   "execution_count": 97,
   "metadata": {},
   "outputs": [],
   "source": [
    "optimizer = tf.train.AdamOptimizer(learning_rate)\n",
    "\n",
    "gradients, v = zip(*optimizer.compute_gradients(loss))\n",
    "gradients, _ = tf.clip_by_global_norm(gradients, 5.0)\n",
    "optimize = optimizer.apply_gradients(zip(gradients, v))\n",
    "\n",
    "sess = tf.InteractiveSession()"
   ]
  },
  {
   "cell_type": "markdown",
   "metadata": {},
   "source": [
    "### Running the Seq2seq NMT"
   ]
  },
  {
   "cell_type": "code",
   "execution_count": null,
   "metadata": {},
   "outputs": [],
   "source": [
    "loss_over_time = []\n",
    "tf.global_variables_initializer().run()\n",
    "\n",
    "src_word_embeddings = np.load('eng-embeddings.npy')\n",
    "tgt_word_embeddings = np.load('hin-embeddings.npy')\n",
    "\n",
    "num_steps = 10001\n",
    "avg_loss = 0\n",
    "\n",
    "enc_data_generator = DataGeneratorMT(\n",
    "    batch_size=batch_size,num_unroll=source_sequence_length,is_train=True, is_source=True)\n",
    "dec_data_generator = DataGeneratorMT(\n",
    "    batch_size=batch_size,num_unroll=target_sequence_length,is_train=True, is_source=False)\n",
    "\n",
    "for step in range(num_steps):\n",
    "\n",
    "    # num_enc_unrollings: 40\n",
    "    # num_dec_unrollings: 60\n",
    "    print('.',end='')\n",
    "    if (step+1)%100==0:\n",
    "        print('')\n",
    "        \n",
    "    # Pick a random batch of sentences to train the algorithm\n",
    "    sent_ids = np.random.randint(low=0,high=train_inputs.shape[0],size=(batch_size))\n",
    "\n",
    "    # Create a batch of data for the encoder\n",
    "    eu_data, eu_labels, _ = enc_data_generator.unroll_batches(sent_ids=sent_ids)\n",
    "    \n",
    "    # Create a batch of data for the decoder\n",
    "    du_data, du_labels, _ = dec_data_generator.unroll_batches(sent_ids=sent_ids)\n",
    "    \n",
    "    feed_dict = {}\n",
    "    for ui,(dat,lbl) in enumerate(zip(eu_data,eu_labels)):            \n",
    "        feed_dict[enc_train_inputs[ui]] = dat                \n",
    "    \n",
    "    for ui,(dat,lbl) in enumerate(zip(du_data,du_labels)):            \n",
    "        feed_dict[dec_train_inputs[ui]] = dat\n",
    "        feed_dict[dec_train_labels[ui]] = lbl\n",
    "\n",
    "    # Optimize the NMT with either Adam (first 10000 iterations)\n",
    "    # or stochastic gradient descent (after 10000 iterations)\n",
    "    \n",
    "    _,l,tr_pred = sess.run([optimize,loss,train_prediction], feed_dict=feed_dict)\n",
    "    tr_pred = tr_pred.flatten()\n",
    "    \n",
    "    # Print some training predictions\n",
    "    if (step+1)%100==0:  \n",
    "        \n",
    "        print('Step ',step+1)\n",
    "\n",
    "        # Print the train results (actual and predicted)\n",
    "        print_str = 'Actual: '\n",
    "        for w in np.concatenate(du_labels,axis=0)[::batch_size].tolist():\n",
    "            print_str += rev_hin_dict[w] + ' '                    \n",
    "            if rev_hin_dict[w] == '<EOS>':\n",
    "                break\n",
    "                      \n",
    "        print(print_str)\n",
    "        print()\n",
    "        \n",
    "        print_str = 'Predicted: '\n",
    "        for w in tr_pred[::batch_size].tolist():\n",
    "            print_str += rev_hin_dict[w] + ' '\n",
    "            if rev_hin_dict[w] == '<EOS>':\n",
    "                break\n",
    "        print(print_str)\n",
    "       \n",
    "        print('\\n')\n",
    "        \n",
    "        rand_idx = np.random.randint(low=1,high=batch_size)\n",
    "        print_str = 'Actual: '\n",
    "        for w in np.concatenate(du_labels,axis=0)[rand_idx::batch_size].tolist():\n",
    "            print_str += rev_hin_dict[w] + ' '\n",
    "            if rev_hin_dict[w] == '<EOS>':\n",
    "                break\n",
    "        print(print_str)\n",
    "\n",
    "            \n",
    "        print()\n",
    "        print_str = 'Predicted: '\n",
    "        for w in tr_pred[rand_idx::batch_size].tolist():\n",
    "            print_str += rev_hin_dict[w] + ' '\n",
    "            if rev_hin_dict[w] == '<EOS>':\n",
    "                break\n",
    "        print(print_str)\n",
    "        print() \n",
    "    \n",
    "    avg_loss += l # Update average loss\n",
    "    \n",
    "    # Print the loss\n",
    "    if (step+1)%500==0:\n",
    "        print('============= Step ', str(step+1), ' =============')\n",
    "        print('\\t Loss: ',avg_loss/500.0)\n",
    "        \n",
    "        loss_over_time.append(avg_loss/500.0)\n",
    "             \n",
    "        avg_loss = 0.0"
   ]
  },
  {
   "cell_type": "code",
   "execution_count": null,
   "metadata": {},
   "outputs": [],
   "source": []
  }
 ],
 "metadata": {
  "kernelspec": {
   "display_name": "Python 3",
   "language": "python",
   "name": "python3"
  },
  "language_info": {
   "codemirror_mode": {
    "name": "ipython",
    "version": 3
   },
   "file_extension": ".py",
   "mimetype": "text/x-python",
   "name": "python",
   "nbconvert_exporter": "python",
   "pygments_lexer": "ipython3",
   "version": "3.5.4"
  }
 },
 "nbformat": 4,
 "nbformat_minor": 2
}
