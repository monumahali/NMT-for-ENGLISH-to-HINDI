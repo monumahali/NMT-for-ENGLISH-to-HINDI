{
 "cells": [
  {
   "cell_type": "markdown",
   "metadata": {},
   "source": [
    "## NMT for English to Hindi"
   ]
  },
  {
   "cell_type": "code",
   "execution_count": null,
   "metadata": {},
   "outputs": [],
   "source": [
    "import os\n",
    "import tensorflow as tf\n",
    "import random\n",
    "import numpy as np\n",
    "import math"
   ]
  },
  {
   "cell_type": "markdown",
   "metadata": {},
   "source": [
    "### Loading data"
   ]
  },
  {
   "cell_type": "code",
   "execution_count": null,
   "metadata": {},
   "outputs": [],
   "source": [
    "# To do: separate the punctuation from words\n",
    "english = []\n",
    "hindi = []\n",
    "with open(os.path.join('hin-eng', 'hin.txt')) as f:\n",
    "    for line in f:\n",
    "        eng, hin = line.split('\\t')\n",
    "        # hindi is having a newline character '\\n' at the end\n",
    "        hin = hin[:-1]\n",
    "        english.append(eng.lower())\n",
    "        hindi.append(hin)\n",
    "        \n",
    "    assert len(english) == len(hindi)\n",
    "    \n",
    "    print(english[:10])\n",
    "    print(hindi[:10])\n",
    "    \n",
    "    print('\\nlength of english sentences:', len(english))\n",
    "    print('length of hindi sentences:', len(hindi))"
   ]
  },
  {
   "cell_type": "markdown",
   "metadata": {},
   "source": [
    "### Getting the length of unique sentences"
   ]
  },
  {
   "cell_type": "code",
   "execution_count": null,
   "metadata": {},
   "outputs": [],
   "source": [
    "unique_eng_sentences = set(english)\n",
    "unique_hin_sentences = set(hindi)\n",
    "\n",
    "print(len(unique_eng_sentences))\n",
    "print(len(unique_hin_sentences))"
   ]
  },
  {
   "cell_type": "markdown",
   "metadata": {},
   "source": [
    "### Creating the dictionary"
   ]
  },
  {
   "cell_type": "code",
   "execution_count": null,
   "metadata": {},
   "outputs": [],
   "source": [
    "eng_words = []\n",
    "hin_words = []\n",
    "\n",
    "for sent in english:\n",
    "    sentence = sent.split(' ')\n",
    "    eng_words.extend(sentence)\n",
    "\n",
    "unq_eng_words = set(eng_words)\n",
    "print('unique english words :', len(unq_eng_words))\n",
    "\n",
    "for sent in hindi:\n",
    "    sentence = sent.split(' ')\n",
    "    hin_words.extend(sentence)\n",
    "\n",
    "unq_hin_words = set(hin_words)\n",
    "print('unique hindi words:', len(unq_hin_words))\n",
    "\n",
    "eng_dict = {'<sos>':1, '<eos>':2, '<PAD>':3}\n",
    "\n",
    "for wrd in unq_eng_words:\n",
    "    eng_dict[wrd] = len(eng_dict) + 1\n",
    "rev_eng_dict = dict(zip(eng_dict.values(), eng_dict.keys()))\n",
    "\n",
    "print('\\nenglish dict:\\n', list(eng_dict.items())[0:10])\n",
    "print('\\nreverse english dict:\\n', list(rev_eng_dict.items())[0:10])\n",
    "\n",
    "hin_dict = {'<sos>':1, '<eos>':2, '<PAD>':3}\n",
    "\n",
    "for wrd in unq_hin_words:\n",
    "    hin_dict[wrd] = len(hin_dict) + 1\n",
    "    \n",
    "rev_hin_dict = dict(zip(hin_dict.values(), hin_dict.keys()))\n",
    "\n",
    "print('\\nhindi dict:\\n', list(hin_dict.items())[0:10])\n",
    "print('\\nreverse hindi dict:\\n', list(rev_hin_dict.items())[0:10])\n",
    "\n",
    "eng_vocab_size = len(eng_dict) + 1\n",
    "hin_vocab_size = len(hin_dict) + 1"
   ]
  },
  {
   "cell_type": "markdown",
   "metadata": {},
   "source": [
    "### Creating train and test set"
   ]
  },
  {
   "cell_type": "code",
   "execution_count": null,
   "metadata": {},
   "outputs": [],
   "source": [
    "test_ind = [random.randint(0, len(english)) for i in range(50)]\n",
    "\n",
    "english_train = [english[i] for i in range(len(english)) if i not in test_ind]\n",
    "hindi_train = [hindi[i] for i in range(len(hindi)) if i not in test_ind]\n",
    "\n",
    "english_test = [english[i] for i in test_ind]\n",
    "hindi_test = [hindi[i] for i in test_ind]\n",
    "\n",
    "print('length of english train:', len(english_train))\n",
    "print('length of hindi train:', len(hindi_train))\n",
    "\n",
    "print('length of english test:', len(english_test))\n",
    "print('length of hindi test:', len(hindi_test))\n",
    "\n",
    "for i in range(10):\n",
    "    print('\\neng:', english_test[i])\n",
    "    print('hin:', hindi_test[i])"
   ]
  },
  {
   "cell_type": "markdown",
   "metadata": {},
   "source": [
    "### Max no. of words in a sentence"
   ]
  },
  {
   "cell_type": "code",
   "execution_count": null,
   "metadata": {},
   "outputs": [],
   "source": [
    "en = []\n",
    "hi = []\n",
    "\n",
    "for sent in english:\n",
    "    sentence = sent.split(' ')\n",
    "    en.append(sentence)\n",
    "\n",
    "for sent in hindi:\n",
    "    sentence = sent.split(' ')\n",
    "    hi.append(sentence)\n",
    "    \n",
    "print('max length of english sentence:', len(max(en, key = len)))\n",
    "print('max length of hindi sentence:', len(max(hi, key = len)))"
   ]
  },
  {
   "cell_type": "markdown",
   "metadata": {},
   "source": [
    "### Converting from words to numbers"
   ]
  },
  {
   "cell_type": "code",
   "execution_count": null,
   "metadata": {},
   "outputs": [],
   "source": [
    "# +2 for <sos> and <eos>\n",
    "eng_max_len = len(max(en, key = len)) + 2\n",
    "hin_max_len = len(max(hi, key = len)) + 2\n",
    "\n",
    "train_input = []\n",
    "train_output = []\n",
    "\n",
    "for eng_sent, hin_sent in zip(english_train, hindi_train):\n",
    "    \n",
    "    numeric_eng_sent = [eng_dict['<sos>']]\n",
    "    numeric_hin_sent = [hin_dict['<sos>']]\n",
    "    \n",
    "    \n",
    "    for wrds in eng_sent.split():\n",
    "        numeric_eng_sent.append(eng_dict[wrds])\n",
    "    \n",
    "    for wrds in hin_sent.split():\n",
    "        numeric_hin_sent.append(hin_dict[wrds])\n",
    "    \n",
    "    if len(numeric_eng_sent) < eng_max_len:\n",
    "        \n",
    "        [numeric_eng_sent.append(eng_dict['<PAD>']) \n",
    "                            for i in range(eng_max_len - len(numeric_eng_sent) - 1)]\n",
    "        \n",
    "        numeric_eng_sent.append(eng_dict['<eos>'])\n",
    "    \n",
    "    train_input.append(numeric_eng_sent)\n",
    "    \n",
    "    if len(numeric_hin_sent) < hin_max_len:\n",
    "        \n",
    "        [numeric_hin_sent.append(hin_dict['<PAD>']) \n",
    "                            for i in range(hin_max_len - len(numeric_hin_sent) - 1)]\n",
    "        numeric_hin_sent.append(hin_dict['<eos>'])\n",
    "    \n",
    "    train_output.append(numeric_hin_sent)\n",
    "\n",
    "\n",
    "test_input = []\n",
    "test_output = []\n",
    "\n",
    "for eng_sent, hin_sent in zip(english_test, hindi_test):\n",
    "    \n",
    "    numeric_eng_sent = [eng_dict['<sos>']]\n",
    "    numeric_hin_sent = [hin_dict['<sos>']]\n",
    "    \n",
    "    for wrds in eng_sent.split():\n",
    "        numeric_eng_sent.append(eng_dict[wrds])\n",
    "    \n",
    "    for wrds in hin_sent.split():\n",
    "        numeric_hin_sent.append(hin_dict[wrds])\n",
    "    \n",
    "    if len(numeric_eng_sent) < eng_max_len:\n",
    "        \n",
    "        [numeric_eng_sent.append(eng_dict['<PAD>']) \n",
    "                            for i in range(eng_max_len - len(numeric_eng_sent) - 1)]\n",
    "        \n",
    "        numeric_eng_sent.append(eng_dict['<eos>'])\n",
    "    \n",
    "    test_input.append(numeric_eng_sent)\n",
    "    \n",
    "    if len(numeric_hin_sent) < hin_max_len:\n",
    "        \n",
    "        [numeric_hin_sent.append(hin_dict['<PAD>']) \n",
    "                            for i in range(hin_max_len - len(numeric_hin_sent) - 1)]\n",
    "        numeric_hin_sent.append(hin_dict['<eos>'])\n",
    "    \n",
    "    test_output.append(numeric_hin_sent)\n",
    "\n"
   ]
  },
  {
   "cell_type": "markdown",
   "metadata": {},
   "source": [
    "### Checking if every thing is working fine"
   ]
  },
  {
   "cell_type": "code",
   "execution_count": null,
   "metadata": {},
   "outputs": [],
   "source": [
    "wrd_sent = []\n",
    "for i in range(10):\n",
    "    num_sent = test_input[i]\n",
    "    print('\\nnumeric and word sequence:\\n', num_sent)\n",
    "    for j in range(24):\n",
    "        wrd_sent.append(rev_eng_dict[num_sent[j]])\n",
    "        \n",
    "    print(wrd_sent)\n",
    "    \n",
    "    wrd_sent = []"
   ]
  },
  {
   "cell_type": "markdown",
   "metadata": {},
   "source": [
    "### Making train and test i/p and o/p numpy arrays"
   ]
  },
  {
   "cell_type": "code",
   "execution_count": null,
   "metadata": {},
   "outputs": [],
   "source": [
    "train_input = np.array(train_input, dtype=np.int32)\n",
    "train_output = np.array(train_output, dtype=np.int32)\n",
    "\n",
    "test_input = np.array(test_input,dtype=np.int32)\n",
    "test_output = np.array(test_output,dtype=np.int32)"
   ]
  },
  {
   "cell_type": "markdown",
   "metadata": {},
   "source": [
    "### Word embeddings using skip-gram"
   ]
  },
  {
   "cell_type": "code",
   "execution_count": null,
   "metadata": {},
   "outputs": [],
   "source": [
    "batch_size = 64\n",
    "embedding_size = 128\n",
    "\n",
    "sentences = []\n",
    "window_size = 1\n",
    "data = []\n",
    "\n",
    "num_sampled = 20\n",
    "\n",
    "for sent in english:\n",
    "    sentence = sent.split(' ')\n",
    "    sentences.append(sentence)\n",
    "    \n",
    "\n",
    "\n",
    "for sent in sentences:\n",
    "    for ind, wrd in enumerate(sent):\n",
    "        for cont_wrd in sent[max(ind - window_size, 0) : min(ind + window_size, len(sent)) + 1]:\n",
    "            if wrd not in cont_wrd:\n",
    "                data.append([wrd, cont_wrd])\n",
    "                \n",
    "data[0:10]"
   ]
  },
  {
   "cell_type": "code",
   "execution_count": null,
   "metadata": {},
   "outputs": [],
   "source": [
    "data_train = []\n",
    "data_label = []\n",
    "\n",
    "for inp in data:\n",
    "    \n",
    "    data_train.append(eng_dict[inp[0]])\n",
    "    data_label.append(eng_dict[inp[1]])\n",
    "\n",
    "print('data train: {}' .format(data_train[0:10]))\n",
    "print('data label: {}' .format(data_label[0:10]))"
   ]
  },
  {
   "cell_type": "markdown",
   "metadata": {},
   "source": [
    "### Define i/p and o/p"
   ]
  },
  {
   "cell_type": "code",
   "execution_count": null,
   "metadata": {},
   "outputs": [],
   "source": [
    "tf.reset_default_graph()\n",
    "train_dataset = tf.placeholder(tf.int32, shape = [batch_size])\n",
    "train_labels = tf.placeholder(tf.int32, shape = [batch_size, 1])"
   ]
  },
  {
   "cell_type": "markdown",
   "metadata": {},
   "source": [
    "### Model Parameters and Other Variables"
   ]
  },
  {
   "cell_type": "code",
   "execution_count": null,
   "metadata": {},
   "outputs": [],
   "source": [
    "embeddings = tf.Variable(tf.random_uniform([eng_vocab_size, embedding_size], -1.0, 1.0))\n",
    "\n",
    "softmax_weights = tf.Variable(tf.truncated_normal([eng_vocab_size, embedding_size],\n",
    "                                stddev=0.5 / math.sqrt(embedding_size))\n",
    "                                )\n",
    "softmax_biases = tf.Variable(tf.random_uniform([eng_vocab_size],0.0,0.01))\n"
   ]
  },
  {
   "cell_type": "markdown",
   "metadata": {},
   "source": [
    "### Computations"
   ]
  },
  {
   "cell_type": "code",
   "execution_count": null,
   "metadata": {},
   "outputs": [],
   "source": [
    "embed = tf.nn.embedding_lookup(embeddings, train_dataset)\n",
    "\n",
    "loss = tf.reduce_mean(tf.nn.sampled_softmax_loss(\n",
    "                    weights=softmax_weights, biases=softmax_biases, inputs=embed,\n",
    "                    labels=train_labels, num_sampled=num_sampled, num_classes=eng_vocab_size)\n",
    "                    )"
   ]
  },
  {
   "cell_type": "markdown",
   "metadata": {},
   "source": [
    "### Optimizer"
   ]
  },
  {
   "cell_type": "code",
   "execution_count": null,
   "metadata": {},
   "outputs": [],
   "source": [
    "optimizer = tf.train.AdamOptimizer(0.01).minimize(loss)"
   ]
  },
  {
   "cell_type": "markdown",
   "metadata": {},
   "source": [
    "### Running the skip gram algorithm"
   ]
  },
  {
   "cell_type": "code",
   "execution_count": null,
   "metadata": {},
   "outputs": [],
   "source": [
    "num_steps = 10000\n",
    "skip_losses = []\n",
    "\n",
    "with tf.Session() as session:\n",
    "    tf.global_variables_initializer().run()\n",
    "    average_loss = 0\n",
    "    \n",
    "    for step in range(num_steps):\n",
    "        for batch_idx in range(len(data_train) // batch_size):\n",
    "            \n",
    "            batch_data = data_train[batch_size*batch_idx : batch_size*batch_idx + batch_size]\n",
    "            batch_data = np.asarray(batch_data)\n",
    "            \n",
    "            batch_label = data_label[batch_size*batch_idx : batch_size*batch_idx + batch_size]\n",
    "            batch_label = np.asarray(batch_label)\n",
    "            batch_label = batch_label.reshape((batch_size, 1))\n",
    "            \n",
    "            \n",
    "            feed_dict = {train_dataset: batch_data, train_labels: batch_label}\n",
    "            _, l = session.run([optimizer, loss], feed_dict = feed_dict)\n",
    "            \n",
    "            average_loss += l\n",
    "            \n",
    "            if (step + 1) % 200 == 0:\n",
    "                if step > 0:\n",
    "                    average_loss / 2000\n",
    "                skip_losses.append(average_loss)\n",
    "        if (step + 1) % 200 == 0:        \n",
    "            print('Average loss at step %d: %f' % (step+1, average_loss))\n",
    "            average_loss = 0\n",
    "            \n",
    "    embeddings_eng = embeddings.eval()\n",
    "\n",
    "np.save('eng-embeddings.npy', embeddings_eng)"
   ]
  },
  {
   "cell_type": "markdown",
   "metadata": {},
   "source": [
    "### Word embeddings Hindi"
   ]
  },
  {
   "cell_type": "code",
   "execution_count": null,
   "metadata": {},
   "outputs": [],
   "source": [
    "batch_size = 64\n",
    "embedding_size = 128\n",
    "\n",
    "sentences = []\n",
    "window_size = 1\n",
    "data_hindi = []\n",
    "\n",
    "num_sampled = 20\n",
    "\n",
    "for sent in hindi:\n",
    "    sentence = sent.split(' ')\n",
    "    sentences.append(sentence)\n",
    "    \n",
    "\n",
    "\n",
    "for sent in sentences:\n",
    "    for ind, wrd in enumerate(sent):\n",
    "        for cont_wrd in sent[max(ind - window_size, 0) : min(ind + window_size, len(sent)) + 1]:\n",
    "            if wrd not in cont_wrd:\n",
    "                data_hindi.append([wrd, cont_wrd])\n",
    "                \n",
    "data_hindi[0:10]"
   ]
  },
  {
   "cell_type": "code",
   "execution_count": null,
   "metadata": {},
   "outputs": [],
   "source": [
    "data_hindi_train = []\n",
    "data_hindi_label = []\n",
    "\n",
    "for inp in data_hindi:\n",
    "    \n",
    "    data_hindi_train.append(hin_dict[inp[0]])\n",
    "    data_hindi_label.append(hin_dict[inp[1]])\n",
    "\n",
    "print('data train: {}' .format(data_hindi_train[0:10]))\n",
    "print('data label: {}' .format(data_hindi_label[0:10]))"
   ]
  },
  {
   "cell_type": "markdown",
   "metadata": {},
   "source": [
    "### Define i/p and o/p"
   ]
  },
  {
   "cell_type": "code",
   "execution_count": null,
   "metadata": {},
   "outputs": [],
   "source": [
    "tf.reset_default_graph()\n",
    "train_hindi_dataset = tf.placeholder(tf.int32, shape = [batch_size])\n",
    "train_hindi_labels = tf.placeholder(tf.int32, shape = [batch_size, 1])"
   ]
  },
  {
   "cell_type": "markdown",
   "metadata": {},
   "source": [
    "### Model parameters and other variables"
   ]
  },
  {
   "cell_type": "code",
   "execution_count": null,
   "metadata": {},
   "outputs": [],
   "source": [
    "embeddings_hindi = tf.Variable(tf.random_uniform([hin_vocab_size, embedding_size], -1.0, 1.0))\n",
    "\n",
    "softmax_weights_hindi = tf.Variable(tf.truncated_normal([hin_vocab_size, embedding_size],\n",
    "                                stddev=0.5 / math.sqrt(embedding_size))\n",
    "                                )\n",
    "softmax_biases_hindi = tf.Variable(tf.random_uniform([hin_vocab_size],0.0,0.01))\n"
   ]
  },
  {
   "cell_type": "markdown",
   "metadata": {},
   "source": [
    "### Computations"
   ]
  },
  {
   "cell_type": "code",
   "execution_count": null,
   "metadata": {},
   "outputs": [],
   "source": [
    "embed_hindi = tf.nn.embedding_lookup(embeddings_hindi, train_hindi_dataset)\n",
    "\n",
    "loss_hindi = tf.reduce_mean(tf.nn.sampled_softmax_loss(\n",
    "                    weights=softmax_weights_hindi, biases=softmax_biases_hindi, inputs=embed_hindi,\n",
    "                    labels=train_hindi_labels, num_sampled=num_sampled, num_classes=hin_vocab_size)\n",
    "                    )"
   ]
  },
  {
   "cell_type": "markdown",
   "metadata": {},
   "source": [
    "### Optimizer"
   ]
  },
  {
   "cell_type": "code",
   "execution_count": null,
   "metadata": {},
   "outputs": [],
   "source": [
    "optimizer = tf.train.AdamOptimizer(0.01).minimize(loss_hindi)"
   ]
  },
  {
   "cell_type": "markdown",
   "metadata": {},
   "source": [
    "### Running the skip gram loss algorithm for hindi"
   ]
  },
  {
   "cell_type": "code",
   "execution_count": null,
   "metadata": {},
   "outputs": [],
   "source": [
    "num_steps = 50000\n",
    "skip_losses_hindi = []\n",
    "\n",
    "with tf.Session() as session:\n",
    "    tf.global_variables_initializer().run()\n",
    "    average_loss_hindi = 0\n",
    "    \n",
    "    for step in range(num_steps):\n",
    "        for batch_idx in range(len(data_hindi_train) // batch_size):\n",
    "            \n",
    "            batch_data_hindi = data_hindi_train[batch_size*batch_idx : batch_size*batch_idx + batch_size]\n",
    "            batch_data_hindi = np.asarray(batch_data_hindi)\n",
    "            \n",
    "            batch_label_hindi = data_hindi_label[batch_size*batch_idx : batch_size*batch_idx + batch_size]\n",
    "            batch_label_hindi = np.asarray(batch_label_hindi)\n",
    "            batch_label_hindi = batch_label_hindi.reshape((batch_size, 1))\n",
    "            \n",
    "            \n",
    "            feed_dict_hindi = {train_hindi_dataset: batch_data_hindi, train_hindi_labels: batch_label_hindi}\n",
    "            _, l_hindi = session.run([optimizer, loss_hindi], feed_dict = feed_dict_hindi)\n",
    "            \n",
    "            average_loss_hindi += l_hindi\n",
    "            \n",
    "            if (step + 1) % 200 == 0:\n",
    "                if step > 0:\n",
    "                    average_loss_hindi / 2000\n",
    "                skip_losses_hindi.append(average_loss_hindi)\n",
    "        if (step + 1) % 200 == 0:        \n",
    "            print('Average loss at step %d: %f' % (step+1, average_loss_hindi))\n",
    "            average_loss_hindi = 0\n",
    "            \n",
    "        embeddings_hin = embeddings_hindi.eval()\n",
    "\n",
    "np.save('hin-embeddings.npy', embeddings_hin)"
   ]
  },
  {
   "cell_type": "markdown",
   "metadata": {},
   "source": [
    "### NMT using TF seq2seq library"
   ]
  },
  {
   "cell_type": "markdown",
   "metadata": {},
   "source": [
    "### Data Generations for MT"
   ]
  },
  {
   "cell_type": "code",
   "execution_count": null,
   "metadata": {},
   "outputs": [],
   "source": [
    "emb_mat = np.load('eng-embeddings.npy')\n",
    "input_size = emb_mat.shape[1]\n",
    "\n",
    "class DataGeneratorMT(object):\n",
    "    \n",
    "    def __init__(self,batch_size,num_unroll,is_source, is_train):\n",
    "        global input_size\n",
    "        self._batch_size = batch_size\n",
    "        self._num_unroll = num_unroll\n",
    "        self._cursor = [0 for offset in range(self._batch_size)]\n",
    "        \n",
    "        \n",
    "        self._sent_ids = None\n",
    "        \n",
    "        self._is_source = is_source\n",
    "        self._is_train = is_train\n",
    "                \n",
    "    def next_batch(self, sent_ids):\n",
    "        \n",
    "        \n",
    "        if self._is_source:\n",
    "            max_sent_length = src_max_sent_length\n",
    "        else:\n",
    "            max_sent_length = tgt_max_sent_length\n",
    "            \n",
    "        batch_data = np.zeros((self._batch_size),dtype=np.float32)\n",
    "        batch_labels = np.zeros((self._batch_size),dtype=np.float32)\n",
    "        \n",
    "        \n",
    "        for b in range(self._batch_size):\n",
    "            \n",
    "            sent_id = sent_ids[b]\n",
    "            \n",
    "            \n",
    "            if self._is_source:\n",
    "                \n",
    "                if self._is_train:\n",
    "                    sent_text = train_inputs[sent_id]\n",
    "                else:\n",
    "                    sent_text = test_inputs[sent_id]\n",
    "                             \n",
    "                batch_data[b] = sent_text[self._cursor[b]]\n",
    "                batch_labels[b] = sent_text[self._cursor[b]+1]\n",
    "            \n",
    "            else:\n",
    "                \n",
    "                if self._is_train:\n",
    "                    sent_text = train_outputs[sent_id]\n",
    "                else:\n",
    "                    sent_text = test_outputs[sent_id]\n",
    "                \n",
    "                \n",
    "                if sent_text[self._cursor[b]]!=tgt_dictionary['<s>']:\n",
    "                    batch_data[b] = sent_text[self._cursor[b]]\n",
    "                else:\n",
    "                    batch_data[b] = sent_text[self._cursor[b]]\n",
    "                \n",
    "                batch_labels[b] = sent_text[self._cursor[b]+1]\n",
    "            \n",
    "            self._cursor[b] = (self._cursor[b]+1)%(max_sent_length-1)\n",
    "             \n",
    "        return batch_data,batch_labels\n",
    "        \n",
    "    def unroll_batches(self,sent_ids):\n",
    "        \n",
    "        \n",
    "        if sent_ids is not None:\n",
    "            \n",
    "            self._sent_ids = sent_ids\n",
    "            \n",
    "            self._cursor = [0 for _ in range(self._batch_size)]\n",
    "                \n",
    "        unroll_data,unroll_labels = [],[]\n",
    "        \n",
    "        for ui in range(self._num_unroll):\n",
    "            \n",
    "            if self._is_source:\n",
    "                data, labels = self.next_batch(self._sent_ids)\n",
    "            else:\n",
    "                data, labels = self.next_batch(self._sent_ids)\n",
    "                    \n",
    "            unroll_data.append(data)\n",
    "            unroll_labels.append(labels)\n",
    "        \n",
    "        return unroll_data, unroll_labels, self._sent_ids\n",
    "    \n",
    "    def reset_indices(self):\n",
    "        self._cursor = [0 for offset in range(self._batch_size)]\n",
    "        \n",
    "dg = DataGeneratorMT(batch_size=5,num_unroll=20,is_source=True, is_train=True)\n",
    "u_data, u_labels, _ = dg.unroll_batches([0,1,2,3,4])\n",
    "\n",
    "print('Source data')\n",
    "for _, lbl in zip(u_data,u_labels):\n",
    "    print([src_reverse_dictionary[w] for w in lbl.tolist()])\n",
    "\n",
    "dg = DataGeneratorMT(batch_size=5,num_unroll=30,is_source=False, is_train=True)\n",
    "u_data, u_labels, _ = dg.unroll_batches([0,2,3,4,5])\n",
    "print('\\nTarget data batch')\n",
    "for d_i,(_, lbl) in enumerate(zip(u_data,u_labels)):\n",
    "    print([tgt_reverse_dictionary[w] for w in lbl.tolist()])"
   ]
  },
  {
   "cell_type": "markdown",
   "metadata": {},
   "source": [
    "### Hyperparameters"
   ]
  },
  {
   "cell_type": "code",
   "execution_count": null,
   "metadata": {},
   "outputs": [],
   "source": [
    "vocab_size = 3158\n",
    "num_units = 128\n",
    "batch_size = 4\n",
    "source_sequence_length = 24\n",
    "target_sequence_length = 27\n",
    "learning_rate = 0.01"
   ]
  },
  {
   "cell_type": "markdown",
   "metadata": {},
   "source": [
    "### Defining the TensorFlow inputs and outputs"
   ]
  },
  {
   "cell_type": "code",
   "execution_count": null,
   "metadata": {},
   "outputs": [],
   "source": [
    "tf.reset_default_graph()\n",
    "\n",
    "enc_train_inputs = []\n",
    "dec_train_inputs = []\n",
    "dec_train_labels = []\n",
    "\n",
    "encoder_emb_layer = tf.convert_to_tensor(np.load('eng-embeddings.npy'))\n",
    "decoder_emb_layer = tf.convert_to_tensor(np.load('hin-embeddings.npy'))\n",
    "\n",
    "for ui in range(source_sequence_length):\n",
    "    enc_train_inputs.append(tf.placeholder(tf.int32, shape=[batch_size],name='train_inputs_%d'%ui))\n",
    "\n",
    "for ui in range(target_sequence_length):\n",
    "    dec_train_inputs.append(tf.placeholder(tf.int32, shape=[batch_size],name='train_inputs_%d'%ui))\n",
    "    dec_train_labels.append(tf.placeholder(tf.int32, shape=[batch_size],name='train_outputs_%d'%ui))\n",
    "    \n",
    "encoder_emb_inp = [tf.nn.embedding_lookup(encoder_emb_layer, src) for src in enc_train_inputs]\n",
    "encoder_emb_inp = tf.stack(encoder_emb_inp)\n",
    "\n",
    "decoder_emb_inp = [tf.nn.embedding_lookup(decoder_emb_layer, src) for src in dec_train_inputs]\n",
    "decoder_emb_inp = tf.stack(decoder_emb_inp)"
   ]
  },
  {
   "cell_type": "markdown",
   "metadata": {},
   "source": [
    "### Encoder"
   ]
  },
  {
   "cell_type": "code",
   "execution_count": null,
   "metadata": {},
   "outputs": [],
   "source": [
    "encoder_cell = tf.nn.rnn_cell.BasicLSTMCell(num_units)\n",
    "\n",
    "initial_state = encoder_cell.zero_state(batch_size, dtype=tf.float32)\n",
    "\n",
    "encoder_outputs, encoder_state = tf.nn.dynamic_rnn(\n",
    "    encoder_cell, encoder_emb_inp, initial_state=initial_state,\n",
    "    sequence_length=[source_sequence_length for _ in range(batch_size)], \n",
    "    time_major=True, swap_memory=True)"
   ]
  },
  {
   "cell_type": "markdown",
   "metadata": {},
   "source": [
    "### Decoder"
   ]
  },
  {
   "cell_type": "code",
   "execution_count": null,
   "metadata": {},
   "outputs": [],
   "source": [
    "decoder_cell = tf.nn.rnn_cell.BasicLSTMCell(num_units)\n",
    "\n",
    "projection_layer = Dense(units=vocab_size, use_bias=True)\n",
    "\n",
    "helper = tf.contrib.seq2seq.TrainingHelper(\n",
    "    decoder_emb_inp, [target_sequence_length for _ in range(batch_size)], time_major=True)\n",
    "\n",
    "decoder = tf.contrib.seq2seq.BahdanauAttention(\n",
    "        decoder_cell, helper, encoder_state,\n",
    "        output_layer=projection_layer)\n",
    "\n",
    "outputs, _, _ = tf.contrib.seq2seq.dynamic_decode(\n",
    "                decoder, output_time_major=True,\n",
    "                swap_memory=True\n",
    "                )\n",
    "\n",
    "logits = outputs.rnn_output\n",
    "train_prediction = outputs.sample_id\n",
    "\n",
    "# Loss computation\n",
    "# To do: Mask the <PAD> \n",
    "crossent = tf.nn.sparse_softmax_cross_entropy_with_logits(\n",
    "    labels=dec_train_labels, logits=logits)\n",
    "loss = tf.reduce_mean(crossent)"
   ]
  },
  {
   "cell_type": "markdown",
   "metadata": {},
   "source": [
    "### Optimizer"
   ]
  },
  {
   "cell_type": "code",
   "execution_count": null,
   "metadata": {},
   "outputs": [],
   "source": [
    "optimizer = tf.train.AdamOptimizer(learning_rate)\n",
    "\n",
    "gradients, v = zip(*optimizer.compute_gradients(loss))\n",
    "gradients, _ = tf.clip_by_global_norm(gradients, 5.0)\n",
    "optimize = optimizer.apply_gradients(zip(gradients, v))\n",
    "\n",
    "sess = tf.InteractiveSession()"
   ]
  },
  {
   "cell_type": "markdown",
   "metadata": {},
   "source": [
    "### Running the Seq2seq NMT"
   ]
  },
  {
   "cell_type": "code",
   "execution_count": null,
   "metadata": {},
   "outputs": [],
   "source": [
    "loss_over_time = []\n",
    "tf.global_variables_initializer().run()\n",
    "\n",
    "src_word_embeddings = np.load('eng-embeddings.npy')\n",
    "tgt_word_embeddings = np.load('hin-embeddings.npy')\n",
    "\n",
    "num_steps = 10001\n",
    "avg_loss = 0\n",
    "\n",
    "enc_data_generator = DataGeneratorMT(\n",
    "    batch_size=batch_size,num_unroll=source_sequence_length,is_train=True, is_source=True)\n",
    "dec_data_generator = DataGeneratorMT(\n",
    "    batch_size=batch_size,num_unroll=target_sequence_length,is_train=True, is_source=False)\n",
    "\n",
    "for step in range(num_steps):\n",
    "\n",
    "    # num_enc_unrollings: 40\n",
    "    # num_dec_unrollings: 60\n",
    "    print('.',end='')\n",
    "    if (step+1)%100==0:\n",
    "        print('')\n",
    "        \n",
    "    # Pick a random batch of sentences to train the algorithm\n",
    "    sent_ids = np.random.randint(low=0,high=train_inputs.shape[0],size=(batch_size))\n",
    "\n",
    "    # Create a batch of data for the encoder\n",
    "    eu_data, eu_labels, _ = enc_data_generator.unroll_batches(sent_ids=sent_ids)\n",
    "    \n",
    "    # Create a batch of data for the decoder\n",
    "    du_data, du_labels, _ = dec_data_generator.unroll_batches(sent_ids=sent_ids)\n",
    "    \n",
    "    feed_dict = {}\n",
    "    for ui,(dat,lbl) in enumerate(zip(eu_data,eu_labels)):            \n",
    "        feed_dict[enc_train_inputs[ui]] = dat                \n",
    "    \n",
    "    for ui,(dat,lbl) in enumerate(zip(du_data,du_labels)):            \n",
    "        feed_dict[dec_train_inputs[ui]] = dat\n",
    "        feed_dict[dec_train_labels[ui]] = lbl\n",
    "\n",
    "    # Optimize the NMT with either Adam (first 10000 iterations)\n",
    "    # or stochastic gradient descent (after 10000 iterations)\n",
    "    \n",
    "    _,l,tr_pred = sess.run([optimize,loss,train_prediction], feed_dict=feed_dict)\n",
    "    tr_pred = tr_pred.flatten()\n",
    "    \n",
    "    # Print some training predictions\n",
    "    if (step+1)%100==0:  \n",
    "        \n",
    "        print('Step ',step+1)\n",
    "\n",
    "        # Print the train results (actual and predicted)\n",
    "        print_str = 'Actual: '\n",
    "        for w in np.concatenate(du_labels,axis=0)[::batch_size].tolist():\n",
    "            print_str += rev_hin_dict[w] + ' '                    \n",
    "            if rev_hin_dict[w] == '<EOS>':\n",
    "                break\n",
    "                      \n",
    "        print(print_str)\n",
    "        print()\n",
    "        \n",
    "        print_str = 'Predicted: '\n",
    "        for w in tr_pred[::batch_size].tolist():\n",
    "            print_str += rev_hin_dict[w] + ' '\n",
    "            if rev_hin_dict[w] == '<EOS>':\n",
    "                break\n",
    "        print(print_str)\n",
    "       \n",
    "        print('\\n')\n",
    "        \n",
    "        rand_idx = np.random.randint(low=1,high=batch_size)\n",
    "        print_str = 'Actual: '\n",
    "        for w in np.concatenate(du_labels,axis=0)[rand_idx::batch_size].tolist():\n",
    "            print_str += rev_hin_dict[w] + ' '\n",
    "            if rev_hin_dict[w] == '<EOS>':\n",
    "                break\n",
    "        print(print_str)\n",
    "\n",
    "            \n",
    "        print()\n",
    "        print_str = 'Predicted: '\n",
    "        for w in tr_pred[rand_idx::batch_size].tolist():\n",
    "            print_str += rev_hin_dict[w] + ' '\n",
    "            if rev_hin_dict[w] == '<EOS>':\n",
    "                break\n",
    "        print(print_str)\n",
    "        print() \n",
    "    \n",
    "    avg_loss += l # Update average loss\n",
    "    \n",
    "    # Print the loss\n",
    "    if (step+1)%500==0:\n",
    "        print('============= Step ', str(step+1), ' =============')\n",
    "        print('\\t Loss: ',avg_loss/500.0)\n",
    "        \n",
    "        loss_over_time.append(avg_loss/500.0)\n",
    "             \n",
    "        avg_loss = 0.0"
   ]
  },
  {
   "cell_type": "code",
   "execution_count": null,
   "metadata": {},
   "outputs": [],
   "source": []
  }
 ],
 "metadata": {
  "kernelspec": {
   "display_name": "Python 3",
   "language": "python",
   "name": "python3"
  },
  "language_info": {
   "codemirror_mode": {
    "name": "ipython",
    "version": 3
   },
   "file_extension": ".py",
   "mimetype": "text/x-python",
   "name": "python",
   "nbconvert_exporter": "python",
   "pygments_lexer": "ipython3",
   "version": "3.5.4"
  }
 },
 "nbformat": 4,
 "nbformat_minor": 2
}
